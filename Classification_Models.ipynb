{
 "cells": [
  {
   "cell_type": "code",
   "execution_count": 1,
   "metadata": {},
   "outputs": [],
   "source": [
    "import numpy as np \n",
    "import pandas as pd\n",
    "import matplotlib.pyplot as plt\n",
    "plt.rc(\"font\", size=13)\n",
    "import seaborn as sns\n",
    "sns.set(style=\"white\")\n",
    "sns.set(style=\"whitegrid\", color_codes=True)"
   ]
  },
  {
   "cell_type": "code",
   "execution_count": 2,
   "metadata": {},
   "outputs": [],
   "source": [
    "%matplotlib inline"
   ]
  },
  {
   "cell_type": "markdown",
   "metadata": {},
   "source": [
    "# Classification using Logistic Regression"
   ]
  },
  {
   "cell_type": "code",
   "execution_count": 3,
   "metadata": {},
   "outputs": [],
   "source": [
    "dfbank = pd.read_csv(\"bank_promo.csv\")"
   ]
  },
  {
   "cell_type": "code",
   "execution_count": 4,
   "metadata": {},
   "outputs": [
    {
     "data": {
      "text/html": [
       "<div>\n",
       "<style scoped>\n",
       "    .dataframe tbody tr th:only-of-type {\n",
       "        vertical-align: middle;\n",
       "    }\n",
       "\n",
       "    .dataframe tbody tr th {\n",
       "        vertical-align: top;\n",
       "    }\n",
       "\n",
       "    .dataframe thead th {\n",
       "        text-align: right;\n",
       "    }\n",
       "</style>\n",
       "<table border=\"1\" class=\"dataframe\">\n",
       "  <thead>\n",
       "    <tr style=\"text-align: right;\">\n",
       "      <th></th>\n",
       "      <th>job_mgmt</th>\n",
       "      <th>married</th>\n",
       "      <th>ps_edu</th>\n",
       "      <th>hous_loan</th>\n",
       "      <th>pers_loan</th>\n",
       "      <th>priorcontacts</th>\n",
       "      <th>subscribed</th>\n",
       "    </tr>\n",
       "  </thead>\n",
       "  <tbody>\n",
       "    <tr>\n",
       "      <th>0</th>\n",
       "      <td>0</td>\n",
       "      <td>1</td>\n",
       "      <td>0</td>\n",
       "      <td>0</td>\n",
       "      <td>0</td>\n",
       "      <td>1</td>\n",
       "      <td>0</td>\n",
       "    </tr>\n",
       "    <tr>\n",
       "      <th>1</th>\n",
       "      <td>0</td>\n",
       "      <td>1</td>\n",
       "      <td>0</td>\n",
       "      <td>1</td>\n",
       "      <td>1</td>\n",
       "      <td>5</td>\n",
       "      <td>0</td>\n",
       "    </tr>\n",
       "    <tr>\n",
       "      <th>2</th>\n",
       "      <td>1</td>\n",
       "      <td>0</td>\n",
       "      <td>1</td>\n",
       "      <td>1</td>\n",
       "      <td>0</td>\n",
       "      <td>2</td>\n",
       "      <td>0</td>\n",
       "    </tr>\n",
       "    <tr>\n",
       "      <th>3</th>\n",
       "      <td>1</td>\n",
       "      <td>1</td>\n",
       "      <td>1</td>\n",
       "      <td>1</td>\n",
       "      <td>1</td>\n",
       "      <td>4</td>\n",
       "      <td>1</td>\n",
       "    </tr>\n",
       "    <tr>\n",
       "      <th>4</th>\n",
       "      <td>0</td>\n",
       "      <td>1</td>\n",
       "      <td>0</td>\n",
       "      <td>1</td>\n",
       "      <td>0</td>\n",
       "      <td>1</td>\n",
       "      <td>0</td>\n",
       "    </tr>\n",
       "    <tr>\n",
       "      <th>5</th>\n",
       "      <td>1</td>\n",
       "      <td>0</td>\n",
       "      <td>1</td>\n",
       "      <td>0</td>\n",
       "      <td>0</td>\n",
       "      <td>5</td>\n",
       "      <td>1</td>\n",
       "    </tr>\n",
       "    <tr>\n",
       "      <th>6</th>\n",
       "      <td>0</td>\n",
       "      <td>1</td>\n",
       "      <td>1</td>\n",
       "      <td>1</td>\n",
       "      <td>0</td>\n",
       "      <td>3</td>\n",
       "      <td>0</td>\n",
       "    </tr>\n",
       "    <tr>\n",
       "      <th>7</th>\n",
       "      <td>0</td>\n",
       "      <td>1</td>\n",
       "      <td>0</td>\n",
       "      <td>1</td>\n",
       "      <td>0</td>\n",
       "      <td>2</td>\n",
       "      <td>1</td>\n",
       "    </tr>\n",
       "    <tr>\n",
       "      <th>8</th>\n",
       "      <td>0</td>\n",
       "      <td>1</td>\n",
       "      <td>1</td>\n",
       "      <td>1</td>\n",
       "      <td>0</td>\n",
       "      <td>2</td>\n",
       "      <td>0</td>\n",
       "    </tr>\n",
       "    <tr>\n",
       "      <th>9</th>\n",
       "      <td>0</td>\n",
       "      <td>1</td>\n",
       "      <td>0</td>\n",
       "      <td>1</td>\n",
       "      <td>1</td>\n",
       "      <td>3</td>\n",
       "      <td>0</td>\n",
       "    </tr>\n",
       "  </tbody>\n",
       "</table>\n",
       "</div>"
      ],
      "text/plain": [
       "   job_mgmt  married  ps_edu  hous_loan  pers_loan  priorcontacts  subscribed\n",
       "0         0        1       0          0          0              1           0\n",
       "1         0        1       0          1          1              5           0\n",
       "2         1        0       1          1          0              2           0\n",
       "3         1        1       1          1          1              4           1\n",
       "4         0        1       0          1          0              1           0\n",
       "5         1        0       1          0          0              5           1\n",
       "6         0        1       1          1          0              3           0\n",
       "7         0        1       0          1          0              2           1\n",
       "8         0        1       1          1          0              2           0\n",
       "9         0        1       0          1          1              3           0"
      ]
     },
     "execution_count": 4,
     "metadata": {},
     "output_type": "execute_result"
    }
   ],
   "source": [
    "dfbank.head(10)"
   ]
  },
  {
   "cell_type": "code",
   "execution_count": 5,
   "metadata": {},
   "outputs": [
    {
     "data": {
      "text/html": [
       "<div>\n",
       "<style scoped>\n",
       "    .dataframe tbody tr th:only-of-type {\n",
       "        vertical-align: middle;\n",
       "    }\n",
       "\n",
       "    .dataframe tbody tr th {\n",
       "        vertical-align: top;\n",
       "    }\n",
       "\n",
       "    .dataframe thead th {\n",
       "        text-align: right;\n",
       "    }\n",
       "</style>\n",
       "<table border=\"1\" class=\"dataframe\">\n",
       "  <thead>\n",
       "    <tr style=\"text-align: right;\">\n",
       "      <th></th>\n",
       "      <th>job_mgmt</th>\n",
       "      <th>married</th>\n",
       "      <th>ps_edu</th>\n",
       "      <th>hous_loan</th>\n",
       "      <th>pers_loan</th>\n",
       "      <th>priorcontacts</th>\n",
       "      <th>subscribed</th>\n",
       "    </tr>\n",
       "  </thead>\n",
       "  <tbody>\n",
       "    <tr>\n",
       "      <th>4511</th>\n",
       "      <td>0</td>\n",
       "      <td>1</td>\n",
       "      <td>0</td>\n",
       "      <td>1</td>\n",
       "      <td>0</td>\n",
       "      <td>2</td>\n",
       "      <td>1</td>\n",
       "    </tr>\n",
       "    <tr>\n",
       "      <th>4512</th>\n",
       "      <td>0</td>\n",
       "      <td>1</td>\n",
       "      <td>0</td>\n",
       "      <td>1</td>\n",
       "      <td>0</td>\n",
       "      <td>2</td>\n",
       "      <td>0</td>\n",
       "    </tr>\n",
       "    <tr>\n",
       "      <th>4513</th>\n",
       "      <td>0</td>\n",
       "      <td>1</td>\n",
       "      <td>0</td>\n",
       "      <td>0</td>\n",
       "      <td>0</td>\n",
       "      <td>2</td>\n",
       "      <td>0</td>\n",
       "    </tr>\n",
       "    <tr>\n",
       "      <th>4514</th>\n",
       "      <td>0</td>\n",
       "      <td>1</td>\n",
       "      <td>0</td>\n",
       "      <td>1</td>\n",
       "      <td>0</td>\n",
       "      <td>5</td>\n",
       "      <td>0</td>\n",
       "    </tr>\n",
       "    <tr>\n",
       "      <th>4515</th>\n",
       "      <td>0</td>\n",
       "      <td>0</td>\n",
       "      <td>0</td>\n",
       "      <td>1</td>\n",
       "      <td>0</td>\n",
       "      <td>5</td>\n",
       "      <td>0</td>\n",
       "    </tr>\n",
       "    <tr>\n",
       "      <th>4516</th>\n",
       "      <td>0</td>\n",
       "      <td>1</td>\n",
       "      <td>0</td>\n",
       "      <td>1</td>\n",
       "      <td>0</td>\n",
       "      <td>5</td>\n",
       "      <td>0</td>\n",
       "    </tr>\n",
       "    <tr>\n",
       "      <th>4517</th>\n",
       "      <td>0</td>\n",
       "      <td>1</td>\n",
       "      <td>1</td>\n",
       "      <td>1</td>\n",
       "      <td>1</td>\n",
       "      <td>1</td>\n",
       "      <td>0</td>\n",
       "    </tr>\n",
       "    <tr>\n",
       "      <th>4518</th>\n",
       "      <td>0</td>\n",
       "      <td>1</td>\n",
       "      <td>0</td>\n",
       "      <td>0</td>\n",
       "      <td>0</td>\n",
       "      <td>11</td>\n",
       "      <td>0</td>\n",
       "    </tr>\n",
       "    <tr>\n",
       "      <th>4519</th>\n",
       "      <td>0</td>\n",
       "      <td>1</td>\n",
       "      <td>0</td>\n",
       "      <td>0</td>\n",
       "      <td>0</td>\n",
       "      <td>7</td>\n",
       "      <td>0</td>\n",
       "    </tr>\n",
       "    <tr>\n",
       "      <th>4520</th>\n",
       "      <td>0</td>\n",
       "      <td>0</td>\n",
       "      <td>1</td>\n",
       "      <td>1</td>\n",
       "      <td>1</td>\n",
       "      <td>9</td>\n",
       "      <td>0</td>\n",
       "    </tr>\n",
       "  </tbody>\n",
       "</table>\n",
       "</div>"
      ],
      "text/plain": [
       "      job_mgmt  married  ps_edu  hous_loan  pers_loan  priorcontacts  \\\n",
       "4511         0        1       0          1          0              2   \n",
       "4512         0        1       0          1          0              2   \n",
       "4513         0        1       0          0          0              2   \n",
       "4514         0        1       0          1          0              5   \n",
       "4515         0        0       0          1          0              5   \n",
       "4516         0        1       0          1          0              5   \n",
       "4517         0        1       1          1          1              1   \n",
       "4518         0        1       0          0          0             11   \n",
       "4519         0        1       0          0          0              7   \n",
       "4520         0        0       1          1          1              9   \n",
       "\n",
       "      subscribed  \n",
       "4511           1  \n",
       "4512           0  \n",
       "4513           0  \n",
       "4514           0  \n",
       "4515           0  \n",
       "4516           0  \n",
       "4517           0  \n",
       "4518           0  \n",
       "4519           0  \n",
       "4520           0  "
      ]
     },
     "execution_count": 5,
     "metadata": {},
     "output_type": "execute_result"
    }
   ],
   "source": [
    "dfbank.tail(10)"
   ]
  },
  {
   "cell_type": "code",
   "execution_count": 6,
   "metadata": {},
   "outputs": [
    {
     "data": {
      "text/html": [
       "<div>\n",
       "<style scoped>\n",
       "    .dataframe tbody tr th:only-of-type {\n",
       "        vertical-align: middle;\n",
       "    }\n",
       "\n",
       "    .dataframe tbody tr th {\n",
       "        vertical-align: top;\n",
       "    }\n",
       "\n",
       "    .dataframe thead th {\n",
       "        text-align: right;\n",
       "    }\n",
       "</style>\n",
       "<table border=\"1\" class=\"dataframe\">\n",
       "  <thead>\n",
       "    <tr style=\"text-align: right;\">\n",
       "      <th></th>\n",
       "      <th>job_mgmt</th>\n",
       "      <th>married</th>\n",
       "      <th>ps_edu</th>\n",
       "      <th>hous_loan</th>\n",
       "      <th>pers_loan</th>\n",
       "      <th>priorcontacts</th>\n",
       "      <th>subscribed</th>\n",
       "    </tr>\n",
       "  </thead>\n",
       "  <tbody>\n",
       "    <tr>\n",
       "      <th>count</th>\n",
       "      <td>4521.000000</td>\n",
       "      <td>4521.000000</td>\n",
       "      <td>4521.000000</td>\n",
       "      <td>4521.000000</td>\n",
       "      <td>4521.000000</td>\n",
       "      <td>4521.000000</td>\n",
       "      <td>4521.000000</td>\n",
       "    </tr>\n",
       "    <tr>\n",
       "      <th>mean</th>\n",
       "      <td>0.214333</td>\n",
       "      <td>0.618668</td>\n",
       "      <td>0.298607</td>\n",
       "      <td>0.566025</td>\n",
       "      <td>0.152842</td>\n",
       "      <td>3.336209</td>\n",
       "      <td>0.122539</td>\n",
       "    </tr>\n",
       "    <tr>\n",
       "      <th>std</th>\n",
       "      <td>0.410404</td>\n",
       "      <td>0.485767</td>\n",
       "      <td>0.457697</td>\n",
       "      <td>0.495676</td>\n",
       "      <td>0.359875</td>\n",
       "      <td>3.438684</td>\n",
       "      <td>0.327944</td>\n",
       "    </tr>\n",
       "    <tr>\n",
       "      <th>min</th>\n",
       "      <td>0.000000</td>\n",
       "      <td>0.000000</td>\n",
       "      <td>0.000000</td>\n",
       "      <td>0.000000</td>\n",
       "      <td>0.000000</td>\n",
       "      <td>1.000000</td>\n",
       "      <td>0.000000</td>\n",
       "    </tr>\n",
       "    <tr>\n",
       "      <th>25%</th>\n",
       "      <td>0.000000</td>\n",
       "      <td>0.000000</td>\n",
       "      <td>0.000000</td>\n",
       "      <td>0.000000</td>\n",
       "      <td>0.000000</td>\n",
       "      <td>1.000000</td>\n",
       "      <td>0.000000</td>\n",
       "    </tr>\n",
       "    <tr>\n",
       "      <th>50%</th>\n",
       "      <td>0.000000</td>\n",
       "      <td>1.000000</td>\n",
       "      <td>0.000000</td>\n",
       "      <td>1.000000</td>\n",
       "      <td>0.000000</td>\n",
       "      <td>2.000000</td>\n",
       "      <td>0.000000</td>\n",
       "    </tr>\n",
       "    <tr>\n",
       "      <th>75%</th>\n",
       "      <td>0.000000</td>\n",
       "      <td>1.000000</td>\n",
       "      <td>1.000000</td>\n",
       "      <td>1.000000</td>\n",
       "      <td>0.000000</td>\n",
       "      <td>4.000000</td>\n",
       "      <td>0.000000</td>\n",
       "    </tr>\n",
       "    <tr>\n",
       "      <th>max</th>\n",
       "      <td>1.000000</td>\n",
       "      <td>1.000000</td>\n",
       "      <td>1.000000</td>\n",
       "      <td>1.000000</td>\n",
       "      <td>1.000000</td>\n",
       "      <td>50.000000</td>\n",
       "      <td>1.000000</td>\n",
       "    </tr>\n",
       "  </tbody>\n",
       "</table>\n",
       "</div>"
      ],
      "text/plain": [
       "          job_mgmt      married       ps_edu    hous_loan    pers_loan  \\\n",
       "count  4521.000000  4521.000000  4521.000000  4521.000000  4521.000000   \n",
       "mean      0.214333     0.618668     0.298607     0.566025     0.152842   \n",
       "std       0.410404     0.485767     0.457697     0.495676     0.359875   \n",
       "min       0.000000     0.000000     0.000000     0.000000     0.000000   \n",
       "25%       0.000000     0.000000     0.000000     0.000000     0.000000   \n",
       "50%       0.000000     1.000000     0.000000     1.000000     0.000000   \n",
       "75%       0.000000     1.000000     1.000000     1.000000     0.000000   \n",
       "max       1.000000     1.000000     1.000000     1.000000     1.000000   \n",
       "\n",
       "       priorcontacts   subscribed  \n",
       "count    4521.000000  4521.000000  \n",
       "mean        3.336209     0.122539  \n",
       "std         3.438684     0.327944  \n",
       "min         1.000000     0.000000  \n",
       "25%         1.000000     0.000000  \n",
       "50%         2.000000     0.000000  \n",
       "75%         4.000000     0.000000  \n",
       "max        50.000000     1.000000  "
      ]
     },
     "execution_count": 6,
     "metadata": {},
     "output_type": "execute_result"
    }
   ],
   "source": [
    "dfbank.describe()"
   ]
  },
  {
   "cell_type": "code",
   "execution_count": 7,
   "metadata": {
    "scrolled": true
   },
   "outputs": [
    {
     "data": {
      "text/html": [
       "<div>\n",
       "<style scoped>\n",
       "    .dataframe tbody tr th:only-of-type {\n",
       "        vertical-align: middle;\n",
       "    }\n",
       "\n",
       "    .dataframe tbody tr th {\n",
       "        vertical-align: top;\n",
       "    }\n",
       "\n",
       "    .dataframe thead th {\n",
       "        text-align: right;\n",
       "    }\n",
       "</style>\n",
       "<table border=\"1\" class=\"dataframe\">\n",
       "  <thead>\n",
       "    <tr style=\"text-align: right;\">\n",
       "      <th></th>\n",
       "      <th>job_mgmt</th>\n",
       "      <th>married</th>\n",
       "      <th>ps_edu</th>\n",
       "      <th>hous_loan</th>\n",
       "      <th>pers_loan</th>\n",
       "      <th>priorcontacts</th>\n",
       "      <th>subscribed</th>\n",
       "    </tr>\n",
       "  </thead>\n",
       "  <tbody>\n",
       "    <tr>\n",
       "      <th>job_mgmt</th>\n",
       "      <td>1.000000</td>\n",
       "      <td>-0.047153</td>\n",
       "      <td>0.586132</td>\n",
       "      <td>-0.049460</td>\n",
       "      <td>-0.042099</td>\n",
       "      <td>0.047123</td>\n",
       "      <td>0.038234</td>\n",
       "    </tr>\n",
       "    <tr>\n",
       "      <th>married</th>\n",
       "      <td>-0.047153</td>\n",
       "      <td>1.000000</td>\n",
       "      <td>-0.107669</td>\n",
       "      <td>0.038432</td>\n",
       "      <td>0.032272</td>\n",
       "      <td>0.017459</td>\n",
       "      <td>-0.057971</td>\n",
       "    </tr>\n",
       "    <tr>\n",
       "      <th>ps_edu</th>\n",
       "      <td>0.586132</td>\n",
       "      <td>-0.107669</td>\n",
       "      <td>1.000000</td>\n",
       "      <td>-0.098624</td>\n",
       "      <td>-0.043434</td>\n",
       "      <td>0.036932</td>\n",
       "      <td>0.058327</td>\n",
       "    </tr>\n",
       "    <tr>\n",
       "      <th>hous_loan</th>\n",
       "      <td>-0.049460</td>\n",
       "      <td>0.038432</td>\n",
       "      <td>-0.098624</td>\n",
       "      <td>1.000000</td>\n",
       "      <td>0.018451</td>\n",
       "      <td>-0.007962</td>\n",
       "      <td>-0.106946</td>\n",
       "    </tr>\n",
       "    <tr>\n",
       "      <th>pers_loan</th>\n",
       "      <td>-0.042099</td>\n",
       "      <td>0.032272</td>\n",
       "      <td>-0.043434</td>\n",
       "      <td>0.018451</td>\n",
       "      <td>1.000000</td>\n",
       "      <td>-0.013742</td>\n",
       "      <td>-0.068750</td>\n",
       "    </tr>\n",
       "    <tr>\n",
       "      <th>priorcontacts</th>\n",
       "      <td>0.047123</td>\n",
       "      <td>0.017459</td>\n",
       "      <td>0.036932</td>\n",
       "      <td>-0.007962</td>\n",
       "      <td>-0.013742</td>\n",
       "      <td>1.000000</td>\n",
       "      <td>0.025403</td>\n",
       "    </tr>\n",
       "    <tr>\n",
       "      <th>subscribed</th>\n",
       "      <td>0.038234</td>\n",
       "      <td>-0.057971</td>\n",
       "      <td>0.058327</td>\n",
       "      <td>-0.106946</td>\n",
       "      <td>-0.068750</td>\n",
       "      <td>0.025403</td>\n",
       "      <td>1.000000</td>\n",
       "    </tr>\n",
       "  </tbody>\n",
       "</table>\n",
       "</div>"
      ],
      "text/plain": [
       "               job_mgmt   married    ps_edu  hous_loan  pers_loan  \\\n",
       "job_mgmt       1.000000 -0.047153  0.586132  -0.049460  -0.042099   \n",
       "married       -0.047153  1.000000 -0.107669   0.038432   0.032272   \n",
       "ps_edu         0.586132 -0.107669  1.000000  -0.098624  -0.043434   \n",
       "hous_loan     -0.049460  0.038432 -0.098624   1.000000   0.018451   \n",
       "pers_loan     -0.042099  0.032272 -0.043434   0.018451   1.000000   \n",
       "priorcontacts  0.047123  0.017459  0.036932  -0.007962  -0.013742   \n",
       "subscribed     0.038234 -0.057971  0.058327  -0.106946  -0.068750   \n",
       "\n",
       "               priorcontacts  subscribed  \n",
       "job_mgmt            0.047123    0.038234  \n",
       "married             0.017459   -0.057971  \n",
       "ps_edu              0.036932    0.058327  \n",
       "hous_loan          -0.007962   -0.106946  \n",
       "pers_loan          -0.013742   -0.068750  \n",
       "priorcontacts       1.000000    0.025403  \n",
       "subscribed          0.025403    1.000000  "
      ]
     },
     "execution_count": 7,
     "metadata": {},
     "output_type": "execute_result"
    }
   ],
   "source": [
    "dfbank.corr(method = 'spearman')"
   ]
  },
  {
   "cell_type": "code",
   "execution_count": 8,
   "metadata": {},
   "outputs": [],
   "source": [
    "Bank_DataX = dfbank[['job_mgmt','married','ps_edu','hous_loan','pers_loan', 'priorcontacts']]\n",
    "Bank_DataY = dfbank[['subscribed']]"
   ]
  },
  {
   "cell_type": "markdown",
   "metadata": {},
   "source": [
    "### If you want to find overall model fit and significant coefficients"
   ]
  },
  {
   "cell_type": "code",
   "execution_count": 9,
   "metadata": {},
   "outputs": [
    {
     "name": "stdout",
     "output_type": "stream",
     "text": [
      "Optimization terminated successfully.\n",
      "         Current function value: 0.361594\n",
      "         Iterations 7\n",
      "                           Logit Regression Results                           \n",
      "==============================================================================\n",
      "Dep. Variable:             subscribed   No. Observations:                 4521\n",
      "Model:                          Logit   Df Residuals:                     4514\n",
      "Method:                           MLE   Df Model:                            6\n",
      "Date:                Mon, 24 Oct 2022   Pseudo R-squ.:                 0.02785\n",
      "Time:                        20:48:04   Log-Likelihood:                -1634.8\n",
      "converged:                       True   LL-Null:                       -1681.6\n",
      "Covariance Type:            nonrobust   LLR p-value:                 5.219e-18\n",
      "=================================================================================\n",
      "                    coef    std err          z      P>|z|      [0.025      0.975]\n",
      "---------------------------------------------------------------------------------\n",
      "const            -1.4784      0.102    -14.533      0.000      -1.678      -1.279\n",
      "job_mgmt          0.0552      0.130      0.423      0.672      -0.201       0.311\n",
      "married          -0.2996      0.093     -3.230      0.001      -0.481      -0.118\n",
      "ps_edu            0.2256      0.119      1.900      0.057      -0.007       0.458\n",
      "hous_loan        -0.6154      0.093     -6.640      0.000      -0.797      -0.434\n",
      "pers_loan        -0.6762      0.158     -4.280      0.000      -0.986      -0.366\n",
      "priorcontacts    -0.0026      0.014     -0.190      0.849      -0.030       0.025\n",
      "=================================================================================\n"
     ]
    }
   ],
   "source": [
    "import statsmodels.api as sm\n",
    "logit_model=sm.Logit(Bank_DataY,sm.add_constant(Bank_DataX))\n",
    "result=logit_model.fit()\n",
    "print(result.summary())"
   ]
  },
  {
   "cell_type": "markdown",
   "metadata": {},
   "source": [
    "### To run a predictive logistic regression model"
   ]
  },
  {
   "cell_type": "code",
   "execution_count": 10,
   "metadata": {},
   "outputs": [
    {
     "data": {
      "text/plain": [
       "LogisticRegression()"
      ]
     },
     "execution_count": 10,
     "metadata": {},
     "output_type": "execute_result"
    }
   ],
   "source": [
    "from sklearn.linear_model import LogisticRegression\n",
    "from sklearn.model_selection import train_test_split  \n",
    "from sklearn import metrics\n",
    "\n",
    "BankX_train, BankX_test, BankY_train, BankY_test = train_test_split(Bank_DataX, Bank_DataY, test_size=0.3, random_state=0)\n",
    "bank_logisticreg = LogisticRegression(solver='lbfgs')\n",
    "bank_logisticreg.fit(BankX_train, np.ravel(BankY_train))"
   ]
  },
  {
   "cell_type": "code",
   "execution_count": 11,
   "metadata": {},
   "outputs": [
    {
     "name": "stdout",
     "output_type": "stream",
     "text": [
      "Accuracy of logistic regression classifier on test set: 0.87\n"
     ]
    }
   ],
   "source": [
    "BankY_pred = bank_logisticreg.predict(BankX_test)\n",
    "print('Accuracy of logistic regression classifier on test set: {:.2f}'.format(bank_logisticreg.score(BankX_test, BankY_test)))"
   ]
  },
  {
   "cell_type": "markdown",
   "metadata": {},
   "source": [
    "### Confusion Matrix\n",
    "\n",
    "A neat description of the Confusion matrix is provided here for those interested:\n",
    "\n",
    "http://docs.statwing.com/the-confusion-matrix-and-the-precision-recall-tradeoff/"
   ]
  },
  {
   "cell_type": "code",
   "execution_count": 12,
   "metadata": {},
   "outputs": [
    {
     "name": "stdout",
     "output_type": "stream",
     "text": [
      "[[1178    0]\n",
      " [ 179    0]]\n"
     ]
    }
   ],
   "source": [
    "from sklearn.metrics import confusion_matrix\n",
    "confusion_matrix = confusion_matrix(BankY_test, BankY_pred)\n",
    "print(confusion_matrix)"
   ]
  },
  {
   "cell_type": "markdown",
   "metadata": {},
   "source": [
    "Correct predictions = 1184 + 0 Errors = 173 + 0\n",
    "\n",
    "1184 / (1184 + 173) = 0.87 (Where did we just see this number?)\n"
   ]
  },
  {
   "cell_type": "markdown",
   "metadata": {},
   "source": [
    "#### 'job_mgmt','married','ps_edu','hous_loan','pers_loan', 'priorcontacts'"
   ]
  },
  {
   "cell_type": "code",
   "execution_count": 13,
   "metadata": {},
   "outputs": [
    {
     "data": {
      "text/plain": [
       "array([[ 0.00119879, -0.23987095,  0.36085239, -0.66991047, -0.74562742,\n",
       "        -0.00801891]])"
      ]
     },
     "execution_count": 13,
     "metadata": {},
     "output_type": "execute_result"
    }
   ],
   "source": [
    "bank_logisticreg.coef_"
   ]
  },
  {
   "cell_type": "code",
   "execution_count": 14,
   "metadata": {
    "scrolled": true
   },
   "outputs": [
    {
     "data": {
      "text/plain": [
       "array([-1.54152085])"
      ]
     },
     "execution_count": 14,
     "metadata": {},
     "output_type": "execute_result"
    }
   ],
   "source": [
    "bank_logisticreg.intercept_"
   ]
  },
  {
   "cell_type": "code",
   "execution_count": 15,
   "metadata": {},
   "outputs": [
    {
     "data": {
      "text/plain": [
       "1.147423415017716"
      ]
     },
     "execution_count": 15,
     "metadata": {},
     "output_type": "execute_result"
    }
   ],
   "source": [
    "np.exp(0.13751892) # job_mgmt"
   ]
  },
  {
   "cell_type": "code",
   "execution_count": 16,
   "metadata": {
    "scrolled": true
   },
   "outputs": [
    {
     "data": {
      "text/plain": [
       "0.82795747881807"
      ]
     },
     "execution_count": 16,
     "metadata": {},
     "output_type": "execute_result"
    }
   ],
   "source": [
    "np.exp(-0.18879348) # married"
   ]
  },
  {
   "cell_type": "code",
   "execution_count": 17,
   "metadata": {},
   "outputs": [
    {
     "data": {
      "text/plain": [
       "1.2869817007738904"
      ]
     },
     "execution_count": 17,
     "metadata": {},
     "output_type": "execute_result"
    }
   ],
   "source": [
    "np.exp(0.25229971) #ps_edu"
   ]
  },
  {
   "cell_type": "code",
   "execution_count": 18,
   "metadata": {},
   "outputs": [
    {
     "data": {
      "text/plain": [
       "0.5117543931064039"
      ]
     },
     "execution_count": 18,
     "metadata": {},
     "output_type": "execute_result"
    }
   ],
   "source": [
    "np.exp(-0.66991047) #hous_loan"
   ]
  },
  {
   "cell_type": "code",
   "execution_count": 19,
   "metadata": {},
   "outputs": [
    {
     "data": {
      "text/plain": [
       "0.4744365355668736"
      ]
     },
     "execution_count": 19,
     "metadata": {},
     "output_type": "execute_result"
    }
   ],
   "source": [
    "np.exp(-0.74562742) #pers_loan"
   ]
  },
  {
   "cell_type": "code",
   "execution_count": 20,
   "metadata": {},
   "outputs": [
    {
     "data": {
      "text/plain": [
       "0.9920131556909193"
      ]
     },
     "execution_count": 20,
     "metadata": {},
     "output_type": "execute_result"
    }
   ],
   "source": [
    "np.exp(-0.00801891) #Prior_contacts"
   ]
  },
  {
   "cell_type": "markdown",
   "metadata": {},
   "source": [
    "# Decision Tree Classification"
   ]
  },
  {
   "cell_type": "code",
   "execution_count": 21,
   "metadata": {},
   "outputs": [],
   "source": [
    "dfsec = pd.read_csv(\"secusystem.csv\")"
   ]
  },
  {
   "cell_type": "code",
   "execution_count": 22,
   "metadata": {},
   "outputs": [
    {
     "data": {
      "text/html": [
       "<div>\n",
       "<style scoped>\n",
       "    .dataframe tbody tr th:only-of-type {\n",
       "        vertical-align: middle;\n",
       "    }\n",
       "\n",
       "    .dataframe tbody tr th {\n",
       "        vertical-align: top;\n",
       "    }\n",
       "\n",
       "    .dataframe thead th {\n",
       "        text-align: right;\n",
       "    }\n",
       "</style>\n",
       "<table border=\"1\" class=\"dataframe\">\n",
       "  <thead>\n",
       "    <tr style=\"text-align: right;\">\n",
       "      <th></th>\n",
       "      <th>IncomeKs</th>\n",
       "      <th>Sqft</th>\n",
       "      <th>SecuritySystemOwner</th>\n",
       "    </tr>\n",
       "  </thead>\n",
       "  <tbody>\n",
       "    <tr>\n",
       "      <th>0</th>\n",
       "      <td>130.50</td>\n",
       "      <td>4743.6</td>\n",
       "      <td>owner</td>\n",
       "    </tr>\n",
       "    <tr>\n",
       "      <th>1</th>\n",
       "      <td>117.45</td>\n",
       "      <td>4554.8</td>\n",
       "      <td>owner</td>\n",
       "    </tr>\n",
       "    <tr>\n",
       "      <th>2</th>\n",
       "      <td>76.50</td>\n",
       "      <td>4422.0</td>\n",
       "      <td>owner</td>\n",
       "    </tr>\n",
       "    <tr>\n",
       "      <th>3</th>\n",
       "      <td>97.20</td>\n",
       "      <td>4341.6</td>\n",
       "      <td>owner</td>\n",
       "    </tr>\n",
       "    <tr>\n",
       "      <th>4</th>\n",
       "      <td>111.78</td>\n",
       "      <td>4323.2</td>\n",
       "      <td>owner</td>\n",
       "    </tr>\n",
       "  </tbody>\n",
       "</table>\n",
       "</div>"
      ],
      "text/plain": [
       "   IncomeKs    Sqft SecuritySystemOwner\n",
       "0    130.50  4743.6               owner\n",
       "1    117.45  4554.8               owner\n",
       "2     76.50  4422.0               owner\n",
       "3     97.20  4341.6               owner\n",
       "4    111.78  4323.2               owner"
      ]
     },
     "execution_count": 22,
     "metadata": {},
     "output_type": "execute_result"
    }
   ],
   "source": [
    "dfsec.head()"
   ]
  },
  {
   "cell_type": "code",
   "execution_count": 23,
   "metadata": {},
   "outputs": [
    {
     "data": {
      "text/html": [
       "<div>\n",
       "<style scoped>\n",
       "    .dataframe tbody tr th:only-of-type {\n",
       "        vertical-align: middle;\n",
       "    }\n",
       "\n",
       "    .dataframe tbody tr th {\n",
       "        vertical-align: top;\n",
       "    }\n",
       "\n",
       "    .dataframe thead th {\n",
       "        text-align: right;\n",
       "    }\n",
       "</style>\n",
       "<table border=\"1\" class=\"dataframe\">\n",
       "  <thead>\n",
       "    <tr style=\"text-align: right;\">\n",
       "      <th></th>\n",
       "      <th>IncomeKs</th>\n",
       "      <th>Sqft</th>\n",
       "      <th>SecuritySystemOwner</th>\n",
       "    </tr>\n",
       "  </thead>\n",
       "  <tbody>\n",
       "    <tr>\n",
       "      <th>43</th>\n",
       "      <td>77.22</td>\n",
       "      <td>2400.0</td>\n",
       "      <td>nonowner</td>\n",
       "    </tr>\n",
       "    <tr>\n",
       "      <th>44</th>\n",
       "      <td>74.25</td>\n",
       "      <td>2400.0</td>\n",
       "      <td>nonowner</td>\n",
       "    </tr>\n",
       "    <tr>\n",
       "      <th>45</th>\n",
       "      <td>81.90</td>\n",
       "      <td>2220.0</td>\n",
       "      <td>nonowner</td>\n",
       "    </tr>\n",
       "    <tr>\n",
       "      <th>46</th>\n",
       "      <td>78.75</td>\n",
       "      <td>2220.0</td>\n",
       "      <td>nonowner</td>\n",
       "    </tr>\n",
       "    <tr>\n",
       "      <th>47</th>\n",
       "      <td>63.75</td>\n",
       "      <td>2100.0</td>\n",
       "      <td>nonowner</td>\n",
       "    </tr>\n",
       "  </tbody>\n",
       "</table>\n",
       "</div>"
      ],
      "text/plain": [
       "    IncomeKs    Sqft SecuritySystemOwner\n",
       "43     77.22  2400.0            nonowner\n",
       "44     74.25  2400.0            nonowner\n",
       "45     81.90  2220.0            nonowner\n",
       "46     78.75  2220.0            nonowner\n",
       "47     63.75  2100.0            nonowner"
      ]
     },
     "execution_count": 23,
     "metadata": {},
     "output_type": "execute_result"
    }
   ],
   "source": [
    "dfsec.tail()"
   ]
  },
  {
   "cell_type": "markdown",
   "metadata": {},
   "source": [
    "## Library for displaying decision trees\n",
    "\n",
    "We will use a library called  plot_tree, which is a part of the matplotlib package\n"
   ]
  },
  {
   "cell_type": "code",
   "execution_count": 24,
   "metadata": {},
   "outputs": [],
   "source": [
    "from sklearn.tree import DecisionTreeClassifier, export_graphviz\n",
    "from sklearn import tree"
   ]
  },
  {
   "cell_type": "code",
   "execution_count": 25,
   "metadata": {},
   "outputs": [],
   "source": [
    "DataX = dfsec[['IncomeKs','Sqft']]\n",
    "DataY = dfsec[['SecuritySystemOwner']]\n",
    "dtclf = tree.DecisionTreeClassifier()\n",
    "dtclf = dtclf.fit(DataX, DataY)"
   ]
  },
  {
   "cell_type": "code",
   "execution_count": 26,
   "metadata": {},
   "outputs": [],
   "source": [
    "SSO_feature_names = ['IncomeKs', 'Sqft']\n",
    "SSO_target_names = ['nonowner','owner']"
   ]
  },
  {
   "cell_type": "code",
   "execution_count": 27,
   "metadata": {},
   "outputs": [
    {
     "data": {
      "text/plain": [
       "[Text(167.4, 181.2, 'Sqft <= 3181.2\\ngini = 0.5\\nsamples = 48\\nvalue = [24, 24]\\nclass = nonowner'),\n",
       " Text(83.7, 108.72, 'IncomeKs <= 116.7\\ngini = 0.26\\nsamples = 26\\nvalue = [22, 4]\\nclass = nonowner'),\n",
       " Text(41.85, 36.23999999999998, 'gini = 0.0\\nsamples = 22\\nvalue = [22, 0]\\nclass = nonowner'),\n",
       " Text(125.55000000000001, 36.23999999999998, 'gini = 0.0\\nsamples = 4\\nvalue = [0, 4]\\nclass = owner'),\n",
       " Text(251.10000000000002, 108.72, 'IncomeKs <= 67.575\\ngini = 0.165\\nsamples = 22\\nvalue = [2, 20]\\nclass = owner'),\n",
       " Text(209.25, 36.23999999999998, 'gini = 0.0\\nsamples = 2\\nvalue = [2, 0]\\nclass = nonowner'),\n",
       " Text(292.95, 36.23999999999998, 'gini = 0.0\\nsamples = 20\\nvalue = [0, 20]\\nclass = owner')]"
      ]
     },
     "execution_count": 27,
     "metadata": {},
     "output_type": "execute_result"
    },
    {
     "data": {
      "image/png": "[encoded data removed]",
      "text/plain": [
       "<Figure size 432x288 with 1 Axes>"
      ]
     },
     "metadata": {
      "needs_background": "light"
     },
     "output_type": "display_data"
    }
   ],
   "source": [
    "tree.plot_tree(dtclf,\n",
    "              feature_names=SSO_feature_names,\n",
    "              class_names=SSO_target_names,\n",
    "              filled = True)"
   ]
  },
  {
   "cell_type": "markdown",
   "metadata": {},
   "source": [
    "Here is a nice wikipedia link to Decision Tree - Classification Criteria.. \n",
    "https://en.wikipedia.org/wiki/Decision_tree_learning#Metrics\n",
    "\n",
    "Above we have used \"gini\" which is the default impurity measure."
   ]
  },
  {
   "cell_type": "markdown",
   "metadata": {},
   "source": [
    "### Remember that we did not do the Training and Testing Dataset splits but used the whole dataset...."
   ]
  },
  {
   "cell_type": "markdown",
   "metadata": {},
   "source": [
    "Now, let us try some prediction task"
   ]
  },
  {
   "cell_type": "code",
   "execution_count": 28,
   "metadata": {},
   "outputs": [
    {
     "name": "stdout",
     "output_type": "stream",
     "text": [
      "['nonowner']\n"
     ]
    }
   ],
   "source": [
    "print(dtclf.predict([[85, 2500]]))"
   ]
  },
  {
   "cell_type": "markdown",
   "metadata": {},
   "source": [
    "# k Nearest Neighbor Classification"
   ]
  },
  {
   "cell_type": "code",
   "execution_count": 29,
   "metadata": {},
   "outputs": [],
   "source": [
    "NNDataX = dfsec[['IncomeKs','Sqft']]\n",
    "NNDataY = dfsec[['SecuritySystemOwner']]"
   ]
  },
  {
   "cell_type": "code",
   "execution_count": 30,
   "metadata": {},
   "outputs": [
    {
     "data": {
      "text/html": [
       "<div>\n",
       "<style scoped>\n",
       "    .dataframe tbody tr th:only-of-type {\n",
       "        vertical-align: middle;\n",
       "    }\n",
       "\n",
       "    .dataframe tbody tr th {\n",
       "        vertical-align: top;\n",
       "    }\n",
       "\n",
       "    .dataframe thead th {\n",
       "        text-align: right;\n",
       "    }\n",
       "</style>\n",
       "<table border=\"1\" class=\"dataframe\">\n",
       "  <thead>\n",
       "    <tr style=\"text-align: right;\">\n",
       "      <th></th>\n",
       "      <th>IncomeKs</th>\n",
       "      <th>Sqft</th>\n",
       "    </tr>\n",
       "  </thead>\n",
       "  <tbody>\n",
       "    <tr>\n",
       "      <th>0</th>\n",
       "      <td>130.50</td>\n",
       "      <td>4743.6</td>\n",
       "    </tr>\n",
       "    <tr>\n",
       "      <th>1</th>\n",
       "      <td>117.45</td>\n",
       "      <td>4554.8</td>\n",
       "    </tr>\n",
       "    <tr>\n",
       "      <th>2</th>\n",
       "      <td>76.50</td>\n",
       "      <td>4422.0</td>\n",
       "    </tr>\n",
       "    <tr>\n",
       "      <th>3</th>\n",
       "      <td>97.20</td>\n",
       "      <td>4341.6</td>\n",
       "    </tr>\n",
       "    <tr>\n",
       "      <th>4</th>\n",
       "      <td>111.78</td>\n",
       "      <td>4323.2</td>\n",
       "    </tr>\n",
       "  </tbody>\n",
       "</table>\n",
       "</div>"
      ],
      "text/plain": [
       "   IncomeKs    Sqft\n",
       "0    130.50  4743.6\n",
       "1    117.45  4554.8\n",
       "2     76.50  4422.0\n",
       "3     97.20  4341.6\n",
       "4    111.78  4323.2"
      ]
     },
     "execution_count": 30,
     "metadata": {},
     "output_type": "execute_result"
    }
   ],
   "source": [
    "NNDataX.head()"
   ]
  },
  {
   "cell_type": "code",
   "execution_count": 31,
   "metadata": {},
   "outputs": [
    {
     "data": {
      "text/html": [
       "<div>\n",
       "<style scoped>\n",
       "    .dataframe tbody tr th:only-of-type {\n",
       "        vertical-align: middle;\n",
       "    }\n",
       "\n",
       "    .dataframe tbody tr th {\n",
       "        vertical-align: top;\n",
       "    }\n",
       "\n",
       "    .dataframe thead th {\n",
       "        text-align: right;\n",
       "    }\n",
       "</style>\n",
       "<table border=\"1\" class=\"dataframe\">\n",
       "  <thead>\n",
       "    <tr style=\"text-align: right;\">\n",
       "      <th></th>\n",
       "      <th>SecuritySystemOwner</th>\n",
       "    </tr>\n",
       "  </thead>\n",
       "  <tbody>\n",
       "    <tr>\n",
       "      <th>0</th>\n",
       "      <td>owner</td>\n",
       "    </tr>\n",
       "    <tr>\n",
       "      <th>1</th>\n",
       "      <td>owner</td>\n",
       "    </tr>\n",
       "    <tr>\n",
       "      <th>2</th>\n",
       "      <td>owner</td>\n",
       "    </tr>\n",
       "    <tr>\n",
       "      <th>3</th>\n",
       "      <td>owner</td>\n",
       "    </tr>\n",
       "    <tr>\n",
       "      <th>4</th>\n",
       "      <td>owner</td>\n",
       "    </tr>\n",
       "  </tbody>\n",
       "</table>\n",
       "</div>"
      ],
      "text/plain": [
       "  SecuritySystemOwner\n",
       "0               owner\n",
       "1               owner\n",
       "2               owner\n",
       "3               owner\n",
       "4               owner"
      ]
     },
     "execution_count": 31,
     "metadata": {},
     "output_type": "execute_result"
    }
   ],
   "source": [
    "NNDataY.head()"
   ]
  },
  {
   "cell_type": "markdown",
   "metadata": {},
   "source": [
    "Note that the IncomeK numbers and Sqft numbers could vary greatly and affect Distance scores abnormally... hence normalizing (using the Min Max method would be good)"
   ]
  },
  {
   "cell_type": "code",
   "execution_count": 32,
   "metadata": {},
   "outputs": [],
   "source": [
    "normalized_NNDataX=(NNDataX-NNDataX.min())/(NNDataX.max()-NNDataX.min())"
   ]
  },
  {
   "cell_type": "code",
   "execution_count": 33,
   "metadata": {},
   "outputs": [
    {
     "data": {
      "text/html": [
       "<div>\n",
       "<style scoped>\n",
       "    .dataframe tbody tr th:only-of-type {\n",
       "        vertical-align: middle;\n",
       "    }\n",
       "\n",
       "    .dataframe tbody tr th {\n",
       "        vertical-align: top;\n",
       "    }\n",
       "\n",
       "    .dataframe thead th {\n",
       "        text-align: right;\n",
       "    }\n",
       "</style>\n",
       "<table border=\"1\" class=\"dataframe\">\n",
       "  <thead>\n",
       "    <tr style=\"text-align: right;\">\n",
       "      <th></th>\n",
       "      <th>IncomeKs</th>\n",
       "      <th>Sqft</th>\n",
       "    </tr>\n",
       "  </thead>\n",
       "  <tbody>\n",
       "    <tr>\n",
       "      <th>0</th>\n",
       "      <td>0.720339</td>\n",
       "      <td>1.000000</td>\n",
       "    </tr>\n",
       "    <tr>\n",
       "      <th>1</th>\n",
       "      <td>0.615012</td>\n",
       "      <td>0.928582</td>\n",
       "    </tr>\n",
       "    <tr>\n",
       "      <th>2</th>\n",
       "      <td>0.284504</td>\n",
       "      <td>0.878348</td>\n",
       "    </tr>\n",
       "    <tr>\n",
       "      <th>3</th>\n",
       "      <td>0.451574</td>\n",
       "      <td>0.847935</td>\n",
       "    </tr>\n",
       "    <tr>\n",
       "      <th>4</th>\n",
       "      <td>0.569249</td>\n",
       "      <td>0.840974</td>\n",
       "    </tr>\n",
       "  </tbody>\n",
       "</table>\n",
       "</div>"
      ],
      "text/plain": [
       "   IncomeKs      Sqft\n",
       "0  0.720339  1.000000\n",
       "1  0.615012  0.928582\n",
       "2  0.284504  0.878348\n",
       "3  0.451574  0.847935\n",
       "4  0.569249  0.840974"
      ]
     },
     "execution_count": 33,
     "metadata": {},
     "output_type": "execute_result"
    }
   ],
   "source": [
    "normalized_NNDataX.head()"
   ]
  },
  {
   "cell_type": "markdown",
   "metadata": {},
   "source": [
    "### Split dataset\n",
    "Let us split the dataset into training and testing data subsets"
   ]
  },
  {
   "cell_type": "code",
   "execution_count": 34,
   "metadata": {},
   "outputs": [],
   "source": [
    "from sklearn.model_selection import train_test_split\n",
    "\n",
    "X_train, X_test, y_train, y_test = train_test_split(normalized_NNDataX, NNDataY, test_size=0.5, random_state=1)"
   ]
  },
  {
   "cell_type": "markdown",
   "metadata": {},
   "source": [
    "Create a Model"
   ]
  },
  {
   "cell_type": "code",
   "execution_count": 35,
   "metadata": {},
   "outputs": [
    {
     "data": {
      "text/plain": [
       "KNeighborsClassifier(n_neighbors=7)"
      ]
     },
     "execution_count": 35,
     "metadata": {},
     "output_type": "execute_result"
    }
   ],
   "source": [
    "from sklearn.neighbors import KNeighborsClassifier\n",
    "knn = KNeighborsClassifier(n_neighbors = 7)\n",
    "knn.fit(X_train, np.ravel(y_train))"
   ]
  },
  {
   "cell_type": "markdown",
   "metadata": {},
   "source": [
    "Testing the accuracy of the predictions..."
   ]
  },
  {
   "cell_type": "code",
   "execution_count": 37,
   "metadata": {},
   "outputs": [
    {
     "data": {
      "text/plain": [
       "0.875"
      ]
     },
     "execution_count": 37,
     "metadata": {},
     "output_type": "execute_result"
    }
   ],
   "source": [
    "knn.score(X_test, y_test)"
   ]
  },
  {
   "cell_type": "code",
   "execution_count": 38,
   "metadata": {},
   "outputs": [],
   "source": [
    "Y_pred = knn.predict(X_test)"
   ]
  },
  {
   "cell_type": "code",
   "execution_count": 39,
   "metadata": {},
   "outputs": [
    {
     "name": "stdout",
     "output_type": "stream",
     "text": [
      "[[14  1]\n",
      " [ 2  7]]\n"
     ]
    }
   ],
   "source": [
    "from sklearn.metrics import confusion_matrix\n",
    "Confusion_Matrix = confusion_matrix(y_test, Y_pred)\n",
    "print(Confusion_Matrix)"
   ]
  },
  {
   "cell_type": "markdown",
   "metadata": {},
   "source": [
    "## Correctly Predicted = 14+7 = 21\n",
    "Wrongly Predicted = 2+1 = 3\n",
    "### Ratio of\n",
    "21/(21+3) = 0.875"
   ]
  },
  {
   "cell_type": "markdown",
   "metadata": {},
   "source": [
    "# Classification using Logistic Regression"
   ]
  },
  {
   "cell_type": "code",
   "execution_count": 40,
   "metadata": {},
   "outputs": [],
   "source": [
    "dfbank = pd.read_csv(\"bank_promo.csv\")"
   ]
  },
  {
   "cell_type": "code",
   "execution_count": 41,
   "metadata": {},
   "outputs": [
    {
     "data": {
      "text/html": [
       "<div>\n",
       "<style scoped>\n",
       "    .dataframe tbody tr th:only-of-type {\n",
       "        vertical-align: middle;\n",
       "    }\n",
       "\n",
       "    .dataframe tbody tr th {\n",
       "        vertical-align: top;\n",
       "    }\n",
       "\n",
       "    .dataframe thead th {\n",
       "        text-align: right;\n",
       "    }\n",
       "</style>\n",
       "<table border=\"1\" class=\"dataframe\">\n",
       "  <thead>\n",
       "    <tr style=\"text-align: right;\">\n",
       "      <th></th>\n",
       "      <th>job_mgmt</th>\n",
       "      <th>married</th>\n",
       "      <th>ps_edu</th>\n",
       "      <th>hous_loan</th>\n",
       "      <th>pers_loan</th>\n",
       "      <th>priorcontacts</th>\n",
       "      <th>subscribed</th>\n",
       "    </tr>\n",
       "  </thead>\n",
       "  <tbody>\n",
       "    <tr>\n",
       "      <th>0</th>\n",
       "      <td>0</td>\n",
       "      <td>1</td>\n",
       "      <td>0</td>\n",
       "      <td>0</td>\n",
       "      <td>0</td>\n",
       "      <td>1</td>\n",
       "      <td>0</td>\n",
       "    </tr>\n",
       "    <tr>\n",
       "      <th>1</th>\n",
       "      <td>0</td>\n",
       "      <td>1</td>\n",
       "      <td>0</td>\n",
       "      <td>1</td>\n",
       "      <td>1</td>\n",
       "      <td>5</td>\n",
       "      <td>0</td>\n",
       "    </tr>\n",
       "    <tr>\n",
       "      <th>2</th>\n",
       "      <td>1</td>\n",
       "      <td>0</td>\n",
       "      <td>1</td>\n",
       "      <td>1</td>\n",
       "      <td>0</td>\n",
       "      <td>2</td>\n",
       "      <td>0</td>\n",
       "    </tr>\n",
       "    <tr>\n",
       "      <th>3</th>\n",
       "      <td>1</td>\n",
       "      <td>1</td>\n",
       "      <td>1</td>\n",
       "      <td>1</td>\n",
       "      <td>1</td>\n",
       "      <td>4</td>\n",
       "      <td>1</td>\n",
       "    </tr>\n",
       "    <tr>\n",
       "      <th>4</th>\n",
       "      <td>0</td>\n",
       "      <td>1</td>\n",
       "      <td>0</td>\n",
       "      <td>1</td>\n",
       "      <td>0</td>\n",
       "      <td>1</td>\n",
       "      <td>0</td>\n",
       "    </tr>\n",
       "  </tbody>\n",
       "</table>\n",
       "</div>"
      ],
      "text/plain": [
       "   job_mgmt  married  ps_edu  hous_loan  pers_loan  priorcontacts  subscribed\n",
       "0         0        1       0          0          0              1           0\n",
       "1         0        1       0          1          1              5           0\n",
       "2         1        0       1          1          0              2           0\n",
       "3         1        1       1          1          1              4           1\n",
       "4         0        1       0          1          0              1           0"
      ]
     },
     "execution_count": 41,
     "metadata": {},
     "output_type": "execute_result"
    }
   ],
   "source": [
    "dfbank.head()"
   ]
  },
  {
   "cell_type": "code",
   "execution_count": 42,
   "metadata": {},
   "outputs": [
    {
     "data": {
      "text/html": [
       "<div>\n",
       "<style scoped>\n",
       "    .dataframe tbody tr th:only-of-type {\n",
       "        vertical-align: middle;\n",
       "    }\n",
       "\n",
       "    .dataframe tbody tr th {\n",
       "        vertical-align: top;\n",
       "    }\n",
       "\n",
       "    .dataframe thead th {\n",
       "        text-align: right;\n",
       "    }\n",
       "</style>\n",
       "<table border=\"1\" class=\"dataframe\">\n",
       "  <thead>\n",
       "    <tr style=\"text-align: right;\">\n",
       "      <th></th>\n",
       "      <th>job_mgmt</th>\n",
       "      <th>married</th>\n",
       "      <th>ps_edu</th>\n",
       "      <th>hous_loan</th>\n",
       "      <th>pers_loan</th>\n",
       "      <th>priorcontacts</th>\n",
       "      <th>subscribed</th>\n",
       "    </tr>\n",
       "  </thead>\n",
       "  <tbody>\n",
       "    <tr>\n",
       "      <th>4516</th>\n",
       "      <td>0</td>\n",
       "      <td>1</td>\n",
       "      <td>0</td>\n",
       "      <td>1</td>\n",
       "      <td>0</td>\n",
       "      <td>5</td>\n",
       "      <td>0</td>\n",
       "    </tr>\n",
       "    <tr>\n",
       "      <th>4517</th>\n",
       "      <td>0</td>\n",
       "      <td>1</td>\n",
       "      <td>1</td>\n",
       "      <td>1</td>\n",
       "      <td>1</td>\n",
       "      <td>1</td>\n",
       "      <td>0</td>\n",
       "    </tr>\n",
       "    <tr>\n",
       "      <th>4518</th>\n",
       "      <td>0</td>\n",
       "      <td>1</td>\n",
       "      <td>0</td>\n",
       "      <td>0</td>\n",
       "      <td>0</td>\n",
       "      <td>11</td>\n",
       "      <td>0</td>\n",
       "    </tr>\n",
       "    <tr>\n",
       "      <th>4519</th>\n",
       "      <td>0</td>\n",
       "      <td>1</td>\n",
       "      <td>0</td>\n",
       "      <td>0</td>\n",
       "      <td>0</td>\n",
       "      <td>7</td>\n",
       "      <td>0</td>\n",
       "    </tr>\n",
       "    <tr>\n",
       "      <th>4520</th>\n",
       "      <td>0</td>\n",
       "      <td>0</td>\n",
       "      <td>1</td>\n",
       "      <td>1</td>\n",
       "      <td>1</td>\n",
       "      <td>9</td>\n",
       "      <td>0</td>\n",
       "    </tr>\n",
       "  </tbody>\n",
       "</table>\n",
       "</div>"
      ],
      "text/plain": [
       "      job_mgmt  married  ps_edu  hous_loan  pers_loan  priorcontacts  \\\n",
       "4516         0        1       0          1          0              5   \n",
       "4517         0        1       1          1          1              1   \n",
       "4518         0        1       0          0          0             11   \n",
       "4519         0        1       0          0          0              7   \n",
       "4520         0        0       1          1          1              9   \n",
       "\n",
       "      subscribed  \n",
       "4516           0  \n",
       "4517           0  \n",
       "4518           0  \n",
       "4519           0  \n",
       "4520           0  "
      ]
     },
     "execution_count": 42,
     "metadata": {},
     "output_type": "execute_result"
    }
   ],
   "source": [
    "dfbank.tail()"
   ]
  },
  {
   "cell_type": "code",
   "execution_count": 43,
   "metadata": {},
   "outputs": [
    {
     "data": {
      "text/html": [
       "<div>\n",
       "<style scoped>\n",
       "    .dataframe tbody tr th:only-of-type {\n",
       "        vertical-align: middle;\n",
       "    }\n",
       "\n",
       "    .dataframe tbody tr th {\n",
       "        vertical-align: top;\n",
       "    }\n",
       "\n",
       "    .dataframe thead th {\n",
       "        text-align: right;\n",
       "    }\n",
       "</style>\n",
       "<table border=\"1\" class=\"dataframe\">\n",
       "  <thead>\n",
       "    <tr style=\"text-align: right;\">\n",
       "      <th></th>\n",
       "      <th>job_mgmt</th>\n",
       "      <th>married</th>\n",
       "      <th>ps_edu</th>\n",
       "      <th>hous_loan</th>\n",
       "      <th>pers_loan</th>\n",
       "      <th>priorcontacts</th>\n",
       "      <th>subscribed</th>\n",
       "    </tr>\n",
       "  </thead>\n",
       "  <tbody>\n",
       "    <tr>\n",
       "      <th>count</th>\n",
       "      <td>4521.000000</td>\n",
       "      <td>4521.000000</td>\n",
       "      <td>4521.000000</td>\n",
       "      <td>4521.000000</td>\n",
       "      <td>4521.000000</td>\n",
       "      <td>4521.000000</td>\n",
       "      <td>4521.000000</td>\n",
       "    </tr>\n",
       "    <tr>\n",
       "      <th>mean</th>\n",
       "      <td>0.214333</td>\n",
       "      <td>0.618668</td>\n",
       "      <td>0.298607</td>\n",
       "      <td>0.566025</td>\n",
       "      <td>0.152842</td>\n",
       "      <td>3.336209</td>\n",
       "      <td>0.122539</td>\n",
       "    </tr>\n",
       "    <tr>\n",
       "      <th>std</th>\n",
       "      <td>0.410404</td>\n",
       "      <td>0.485767</td>\n",
       "      <td>0.457697</td>\n",
       "      <td>0.495676</td>\n",
       "      <td>0.359875</td>\n",
       "      <td>3.438684</td>\n",
       "      <td>0.327944</td>\n",
       "    </tr>\n",
       "    <tr>\n",
       "      <th>min</th>\n",
       "      <td>0.000000</td>\n",
       "      <td>0.000000</td>\n",
       "      <td>0.000000</td>\n",
       "      <td>0.000000</td>\n",
       "      <td>0.000000</td>\n",
       "      <td>1.000000</td>\n",
       "      <td>0.000000</td>\n",
       "    </tr>\n",
       "    <tr>\n",
       "      <th>25%</th>\n",
       "      <td>0.000000</td>\n",
       "      <td>0.000000</td>\n",
       "      <td>0.000000</td>\n",
       "      <td>0.000000</td>\n",
       "      <td>0.000000</td>\n",
       "      <td>1.000000</td>\n",
       "      <td>0.000000</td>\n",
       "    </tr>\n",
       "    <tr>\n",
       "      <th>50%</th>\n",
       "      <td>0.000000</td>\n",
       "      <td>1.000000</td>\n",
       "      <td>0.000000</td>\n",
       "      <td>1.000000</td>\n",
       "      <td>0.000000</td>\n",
       "      <td>2.000000</td>\n",
       "      <td>0.000000</td>\n",
       "    </tr>\n",
       "    <tr>\n",
       "      <th>75%</th>\n",
       "      <td>0.000000</td>\n",
       "      <td>1.000000</td>\n",
       "      <td>1.000000</td>\n",
       "      <td>1.000000</td>\n",
       "      <td>0.000000</td>\n",
       "      <td>4.000000</td>\n",
       "      <td>0.000000</td>\n",
       "    </tr>\n",
       "    <tr>\n",
       "      <th>max</th>\n",
       "      <td>1.000000</td>\n",
       "      <td>1.000000</td>\n",
       "      <td>1.000000</td>\n",
       "      <td>1.000000</td>\n",
       "      <td>1.000000</td>\n",
       "      <td>50.000000</td>\n",
       "      <td>1.000000</td>\n",
       "    </tr>\n",
       "  </tbody>\n",
       "</table>\n",
       "</div>"
      ],
      "text/plain": [
       "          job_mgmt      married       ps_edu    hous_loan    pers_loan  \\\n",
       "count  4521.000000  4521.000000  4521.000000  4521.000000  4521.000000   \n",
       "mean      0.214333     0.618668     0.298607     0.566025     0.152842   \n",
       "std       0.410404     0.485767     0.457697     0.495676     0.359875   \n",
       "min       0.000000     0.000000     0.000000     0.000000     0.000000   \n",
       "25%       0.000000     0.000000     0.000000     0.000000     0.000000   \n",
       "50%       0.000000     1.000000     0.000000     1.000000     0.000000   \n",
       "75%       0.000000     1.000000     1.000000     1.000000     0.000000   \n",
       "max       1.000000     1.000000     1.000000     1.000000     1.000000   \n",
       "\n",
       "       priorcontacts   subscribed  \n",
       "count    4521.000000  4521.000000  \n",
       "mean        3.336209     0.122539  \n",
       "std         3.438684     0.327944  \n",
       "min         1.000000     0.000000  \n",
       "25%         1.000000     0.000000  \n",
       "50%         2.000000     0.000000  \n",
       "75%         4.000000     0.000000  \n",
       "max        50.000000     1.000000  "
      ]
     },
     "execution_count": 43,
     "metadata": {},
     "output_type": "execute_result"
    }
   ],
   "source": [
    "dfbank.describe()"
   ]
  },
  {
   "cell_type": "code",
   "execution_count": 44,
   "metadata": {},
   "outputs": [
    {
     "data": {
      "text/html": [
       "<div>\n",
       "<style scoped>\n",
       "    .dataframe tbody tr th:only-of-type {\n",
       "        vertical-align: middle;\n",
       "    }\n",
       "\n",
       "    .dataframe tbody tr th {\n",
       "        vertical-align: top;\n",
       "    }\n",
       "\n",
       "    .dataframe thead th {\n",
       "        text-align: right;\n",
       "    }\n",
       "</style>\n",
       "<table border=\"1\" class=\"dataframe\">\n",
       "  <thead>\n",
       "    <tr style=\"text-align: right;\">\n",
       "      <th></th>\n",
       "      <th>job_mgmt</th>\n",
       "      <th>married</th>\n",
       "      <th>ps_edu</th>\n",
       "      <th>hous_loan</th>\n",
       "      <th>pers_loan</th>\n",
       "      <th>priorcontacts</th>\n",
       "      <th>subscribed</th>\n",
       "    </tr>\n",
       "  </thead>\n",
       "  <tbody>\n",
       "    <tr>\n",
       "      <th>job_mgmt</th>\n",
       "      <td>1.000000</td>\n",
       "      <td>-0.047153</td>\n",
       "      <td>0.586132</td>\n",
       "      <td>-0.049460</td>\n",
       "      <td>-0.042099</td>\n",
       "      <td>0.028252</td>\n",
       "      <td>0.038234</td>\n",
       "    </tr>\n",
       "    <tr>\n",
       "      <th>married</th>\n",
       "      <td>-0.047153</td>\n",
       "      <td>1.000000</td>\n",
       "      <td>-0.107669</td>\n",
       "      <td>0.038432</td>\n",
       "      <td>0.032272</td>\n",
       "      <td>0.011208</td>\n",
       "      <td>-0.057971</td>\n",
       "    </tr>\n",
       "    <tr>\n",
       "      <th>ps_edu</th>\n",
       "      <td>0.586132</td>\n",
       "      <td>-0.107669</td>\n",
       "      <td>1.000000</td>\n",
       "      <td>-0.098624</td>\n",
       "      <td>-0.043434</td>\n",
       "      <td>0.033753</td>\n",
       "      <td>0.058327</td>\n",
       "    </tr>\n",
       "    <tr>\n",
       "      <th>hous_loan</th>\n",
       "      <td>-0.049460</td>\n",
       "      <td>0.038432</td>\n",
       "      <td>-0.098624</td>\n",
       "      <td>1.000000</td>\n",
       "      <td>0.018451</td>\n",
       "      <td>0.015789</td>\n",
       "      <td>-0.106946</td>\n",
       "    </tr>\n",
       "    <tr>\n",
       "      <th>pers_loan</th>\n",
       "      <td>-0.042099</td>\n",
       "      <td>0.032272</td>\n",
       "      <td>-0.043434</td>\n",
       "      <td>0.018451</td>\n",
       "      <td>1.000000</td>\n",
       "      <td>0.004591</td>\n",
       "      <td>-0.068750</td>\n",
       "    </tr>\n",
       "    <tr>\n",
       "      <th>priorcontacts</th>\n",
       "      <td>0.028252</td>\n",
       "      <td>0.011208</td>\n",
       "      <td>0.033753</td>\n",
       "      <td>0.015789</td>\n",
       "      <td>0.004591</td>\n",
       "      <td>1.000000</td>\n",
       "      <td>-0.003190</td>\n",
       "    </tr>\n",
       "    <tr>\n",
       "      <th>subscribed</th>\n",
       "      <td>0.038234</td>\n",
       "      <td>-0.057971</td>\n",
       "      <td>0.058327</td>\n",
       "      <td>-0.106946</td>\n",
       "      <td>-0.068750</td>\n",
       "      <td>-0.003190</td>\n",
       "      <td>1.000000</td>\n",
       "    </tr>\n",
       "  </tbody>\n",
       "</table>\n",
       "</div>"
      ],
      "text/plain": [
       "               job_mgmt   married    ps_edu  hous_loan  pers_loan  \\\n",
       "job_mgmt       1.000000 -0.047153  0.586132  -0.049460  -0.042099   \n",
       "married       -0.047153  1.000000 -0.107669   0.038432   0.032272   \n",
       "ps_edu         0.586132 -0.107669  1.000000  -0.098624  -0.043434   \n",
       "hous_loan     -0.049460  0.038432 -0.098624   1.000000   0.018451   \n",
       "pers_loan     -0.042099  0.032272 -0.043434   0.018451   1.000000   \n",
       "priorcontacts  0.028252  0.011208  0.033753   0.015789   0.004591   \n",
       "subscribed     0.038234 -0.057971  0.058327  -0.106946  -0.068750   \n",
       "\n",
       "               priorcontacts  subscribed  \n",
       "job_mgmt            0.028252    0.038234  \n",
       "married             0.011208   -0.057971  \n",
       "ps_edu              0.033753    0.058327  \n",
       "hous_loan           0.015789   -0.106946  \n",
       "pers_loan           0.004591   -0.068750  \n",
       "priorcontacts       1.000000   -0.003190  \n",
       "subscribed         -0.003190    1.000000  "
      ]
     },
     "execution_count": 44,
     "metadata": {},
     "output_type": "execute_result"
    }
   ],
   "source": [
    "dfbank.corr()"
   ]
  },
  {
   "cell_type": "code",
   "execution_count": 45,
   "metadata": {},
   "outputs": [],
   "source": [
    "Bank_DataX = dfbank[['job_mgmt','married','ps_edu','hous_loan','pers_loan', 'priorcontacts']]\n",
    "Bank_DataY = dfbank[['subscribed']]"
   ]
  },
  {
   "cell_type": "code",
   "execution_count": 46,
   "metadata": {},
   "outputs": [
    {
     "data": {
      "text/plain": [
       "LogisticRegression()"
      ]
     },
     "execution_count": 46,
     "metadata": {},
     "output_type": "execute_result"
    }
   ],
   "source": [
    "from sklearn.linear_model import LogisticRegression\n",
    "from sklearn.model_selection import train_test_split  \n",
    "from sklearn import metrics\n",
    "\n",
    "BankX_train, BankX_test, BankY_train, BankY_test = train_test_split(Bank_DataX, Bank_DataY, test_size=0.3, random_state=0)\n",
    "bank_logisticreg = LogisticRegression(solver='lbfgs')\n",
    "bank_logisticreg.fit(BankX_train, np.ravel(BankY_train))"
   ]
  },
  {
   "cell_type": "code",
   "execution_count": 47,
   "metadata": {},
   "outputs": [
    {
     "name": "stdout",
     "output_type": "stream",
     "text": [
      "Accuracy of logistic regression classifier on test set: 0.87\n"
     ]
    }
   ],
   "source": [
    "BankY_pred = bank_logisticreg.predict(BankX_test)\n",
    "print('Accuracy of logistic regression classifier on test set: {:.2f}'.format(bank_logisticreg.score(BankX_test, BankY_test)))"
   ]
  },
  {
   "cell_type": "markdown",
   "metadata": {},
   "source": [
    "### Confusion Matrix\n",
    "\n",
    "A neat description of the Confusion matrix is provided here for those interested:\n",
    "\n",
    "http://docs.statwing.com/the-confusion-matrix-and-the-precision-recall-tradeoff/"
   ]
  },
  {
   "cell_type": "code",
   "execution_count": 48,
   "metadata": {},
   "outputs": [
    {
     "name": "stdout",
     "output_type": "stream",
     "text": [
      "[[1178    0]\n",
      " [ 179    0]]\n"
     ]
    }
   ],
   "source": [
    "from sklearn.metrics import confusion_matrix\n",
    "confusion_matrix = confusion_matrix(BankY_test, BankY_pred)\n",
    "print(confusion_matrix)"
   ]
  },
  {
   "cell_type": "markdown",
   "metadata": {},
   "source": [
    "Correct predictions = 1178 + 0 Errors = 179 + 0\n",
    "\n",
    "1178 / (1178 + 179) = 0.87 (Where did we just see this number?)\n"
   ]
  },
  {
   "cell_type": "markdown",
   "metadata": {},
   "source": [
    "#### 'job_mgmt','married','ps_edu','hous_loan','pers_loan', 'priorcontacts'"
   ]
  },
  {
   "cell_type": "code",
   "execution_count": 49,
   "metadata": {},
   "outputs": [
    {
     "data": {
      "text/plain": [
       "array([[ 0.00119879, -0.23987095,  0.36085239, -0.66991047, -0.74562742,\n",
       "        -0.00801891]])"
      ]
     },
     "execution_count": 49,
     "metadata": {},
     "output_type": "execute_result"
    }
   ],
   "source": [
    "bank_logisticreg.coef_"
   ]
  },
  {
   "cell_type": "code",
   "execution_count": 50,
   "metadata": {
    "scrolled": true
   },
   "outputs": [
    {
     "data": {
      "text/plain": [
       "array([-1.54152085])"
      ]
     },
     "execution_count": 50,
     "metadata": {},
     "output_type": "execute_result"
    }
   ],
   "source": [
    "bank_logisticreg.intercept_"
   ]
  },
  {
   "cell_type": "code",
   "execution_count": 51,
   "metadata": {},
   "outputs": [
    {
     "data": {
      "text/plain": [
       "1.0011995088359478"
      ]
     },
     "execution_count": 51,
     "metadata": {},
     "output_type": "execute_result"
    }
   ],
   "source": [
    "np.exp(0.00119879) # job_mgmt"
   ]
  },
  {
   "cell_type": "code",
   "execution_count": 52,
   "metadata": {
    "scrolled": true
   },
   "outputs": [
    {
     "data": {
      "text/plain": [
       "0.7867293819425176"
      ]
     },
     "execution_count": 52,
     "metadata": {},
     "output_type": "execute_result"
    }
   ],
   "source": [
    "np.exp(-0.23987095) # married"
   ]
  },
  {
   "cell_type": "code",
   "execution_count": 53,
   "metadata": {},
   "outputs": [
    {
     "data": {
      "text/plain": [
       "1.4345516910741505"
      ]
     },
     "execution_count": 53,
     "metadata": {},
     "output_type": "execute_result"
    }
   ],
   "source": [
    "np.exp(0.36085239) #ps_edu"
   ]
  },
  {
   "cell_type": "code",
   "execution_count": 54,
   "metadata": {},
   "outputs": [
    {
     "data": {
      "text/plain": [
       "0.5117543931064039"
      ]
     },
     "execution_count": 54,
     "metadata": {},
     "output_type": "execute_result"
    }
   ],
   "source": [
    "np.exp(-0.66991047) #hous_loan"
   ]
  },
  {
   "cell_type": "code",
   "execution_count": 55,
   "metadata": {},
   "outputs": [
    {
     "data": {
      "text/plain": [
       "0.4744365355668736"
      ]
     },
     "execution_count": 55,
     "metadata": {},
     "output_type": "execute_result"
    }
   ],
   "source": [
    "np.exp(-0.74562742) #pers_loan"
   ]
  },
  {
   "cell_type": "code",
   "execution_count": 56,
   "metadata": {},
   "outputs": [
    {
     "data": {
      "text/plain": [
       "0.9920131556909193"
      ]
     },
     "execution_count": 56,
     "metadata": {},
     "output_type": "execute_result"
    }
   ],
   "source": [
    "np.exp(-0.00801891) #Prior_contacts"
   ]
  },
  {
   "cell_type": "markdown",
   "metadata": {},
   "source": [
    "# Naive Bayes Classification"
   ]
  },
  {
   "cell_type": "markdown",
   "metadata": {},
   "source": [
    "More information on the BernoulliNB Naive Bayes classifier:\n",
    "https://scikit-learn.org/stable/modules/generated/sklearn.naive_bayes.BernoulliNB.html"
   ]
  },
  {
   "cell_type": "code",
   "execution_count": 57,
   "metadata": {},
   "outputs": [],
   "source": [
    "NBDataX = dfbank[['job_mgmt','married','ps_edu','hous_loan','pers_loan','priorcontacts']]\n",
    "NBDataY = dfbank[['subscribed']]"
   ]
  },
  {
   "cell_type": "code",
   "execution_count": 58,
   "metadata": {},
   "outputs": [],
   "source": [
    "NBX_train, NBX_test, NBY_train, NBY_test = train_test_split(NBDataX, NBDataY, test_size=0.4, random_state=42)"
   ]
  },
  {
   "cell_type": "code",
   "execution_count": 59,
   "metadata": {},
   "outputs": [],
   "source": [
    "from sklearn.naive_bayes import BernoulliNB\n",
    "from sklearn.naive_bayes import GaussianNB"
   ]
  },
  {
   "cell_type": "code",
   "execution_count": 60,
   "metadata": {},
   "outputs": [
    {
     "data": {
      "text/plain": [
       "BernoulliNB()"
      ]
     },
     "execution_count": 60,
     "metadata": {},
     "output_type": "execute_result"
    }
   ],
   "source": [
    "#Create a Classifier and Train the model\n",
    "BERNmodel = BernoulliNB()\n",
    "#GAUSSmodel = GaussianNB()\n",
    "\n",
    "# If the other variables were continuous, I would use GaussianNB()\n",
    "BERNmodel.fit(NBX_train, np.ravel(NBY_train))\n",
    "#GAUSSmodel.fit(NBX_train, np.ravel(NBY_train))"
   ]
  },
  {
   "cell_type": "code",
   "execution_count": 61,
   "metadata": {},
   "outputs": [
    {
     "name": "stdout",
     "output_type": "stream",
     "text": [
      "[[1609    0]\n",
      " [ 200    0]]\n"
     ]
    }
   ],
   "source": [
    "from sklearn.metrics import confusion_matrix\n",
    "\n",
    "#Predict Bernoulli Output \n",
    "NBERNY_pred = BERNmodel.predict(NBX_test)\n",
    "#NGaussY_pred = GAUSSmodel.predict(NBX_test)\n",
    "\n",
    "NBERNConfusion_Matrix = confusion_matrix(NBY_test, NBERNY_pred)\n",
    "#NGaussConfusion_Matrix = confusion_matrix(NBY_test, NGaussY_pred)\n",
    "\n",
    "print(NBERNConfusion_Matrix)\n",
    "#print(NGaussConfusion_Matrix)"
   ]
  },
  {
   "cell_type": "code",
   "execution_count": 62,
   "metadata": {},
   "outputs": [
    {
     "data": {
      "text/plain": [
       "0.8894416804864566"
      ]
     },
     "execution_count": 62,
     "metadata": {},
     "output_type": "execute_result"
    }
   ],
   "source": [
    "BERNmodel.score(NBX_test, NBY_test)\n",
    "#GAUSSmodel.score(NBX_test, NBY_test)"
   ]
  },
  {
   "cell_type": "code",
   "execution_count": null,
   "metadata": {},
   "outputs": [],
   "source": []
  },
  {
   "cell_type": "code",
   "execution_count": 65,
   "metadata": {},
   "outputs": [],
   "source": [
    "from sklearn.tree import DecisionTreeClassifier, export_graphviz\n",
    "from sklearn import tree"
   ]
  },
  {
   "cell_type": "code",
   "execution_count": 66,
   "metadata": {},
   "outputs": [],
   "source": [
    "DTDataX = dfbank[['job_mgmt','married','ps_edu','hous_loan','pers_loan','priorcontacts']]\n",
    "DTDataY = dfbank[['subscribed']]\n",
    "\n",
    "dtclf2 = tree.DecisionTreeClassifier()\n",
    "dtclf2 = dtclf2.fit(DTDataX, DTDataY)"
   ]
  },
  {
   "cell_type": "code",
   "execution_count": 67,
   "metadata": {},
   "outputs": [],
   "source": [
    "BPromo_feature_names = ['job_mgmt','married','ps_edu','hous_loan','pers_loan','priorcontacts']\n",
    "BPromo_target_names = ['NotSub','Sub']"
   ]
  },
  {
   "cell_type": "code",
   "execution_count": 68,
   "metadata": {},
   "outputs": [
    {
     "data": {
      "text/plain": [
       "[Text(169.92170668761221, 210.645, 'hous_loan <= 0.5\\ngini = 0.215\\nsamples = 4521\\nvalue = [3967, 554]\\nclass = NotSub'),\n",
       " Text(92.9039946140036, 197.055, 'pers_loan <= 0.5\\ngini = 0.272\\nsamples = 1962\\nvalue = [1643, 319]\\nclass = NotSub'),\n",
       " Text(46.80888689407541, 183.465, 'married <= 0.5\\ngini = 0.292\\nsamples = 1677\\nvalue = [1379, 298]\\nclass = NotSub'),\n",
       " Text(19.760412926391385, 169.875, 'priorcontacts <= 15.0\\ngini = 0.329\\nsamples = 678\\nvalue = [537, 141]\\nclass = NotSub'),\n",
       " Text(18.55825852782765, 156.285, 'ps_edu <= 0.5\\ngini = 0.333\\nsamples = 669\\nvalue = [528, 141]\\nclass = NotSub'),\n",
       " Text(9.016157989228008, 142.695, 'priorcontacts <= 2.5\\ngini = 0.315\\nsamples = 388\\nvalue = [312, 76]\\nclass = NotSub'),\n",
       " Text(4.808617594254938, 129.10500000000002, 'job_mgmt <= 0.5\\ngini = 0.334\\nsamples = 241\\nvalue = [190, 51]\\nclass = NotSub'),\n",
       " Text(2.404308797127469, 115.515, 'priorcontacts <= 1.5\\ngini = 0.328\\nsamples = 227\\nvalue = [180, 47]\\nclass = NotSub'),\n",
       " Text(1.2021543985637344, 101.925, 'gini = 0.316\\nsamples = 117\\nvalue = [94, 23]\\nclass = NotSub'),\n",
       " Text(3.6064631956912034, 101.925, 'gini = 0.341\\nsamples = 110\\nvalue = [86, 24]\\nclass = NotSub'),\n",
       " Text(7.212926391382407, 115.515, 'priorcontacts <= 1.5\\ngini = 0.408\\nsamples = 14\\nvalue = [10, 4]\\nclass = NotSub'),\n",
       " Text(6.010771992818672, 101.925, 'gini = 0.5\\nsamples = 6\\nvalue = [3, 3]\\nclass = NotSub'),\n",
       " Text(8.41508078994614, 101.925, 'gini = 0.219\\nsamples = 8\\nvalue = [7, 1]\\nclass = NotSub'),\n",
       " Text(13.223698384201079, 129.10500000000002, 'job_mgmt <= 0.5\\ngini = 0.282\\nsamples = 147\\nvalue = [122, 25]\\nclass = NotSub'),\n",
       " Text(12.021543985637344, 115.515, 'priorcontacts <= 12.5\\ngini = 0.298\\nsamples = 137\\nvalue = [112, 25]\\nclass = NotSub'),\n",
       " Text(10.81938958707361, 101.925, 'priorcontacts <= 10.5\\ngini = 0.305\\nsamples = 133\\nvalue = [108, 25]\\nclass = NotSub'),\n",
       " Text(7.8140035906642735, 88.33500000000001, 'priorcontacts <= 7.5\\ngini = 0.298\\nsamples = 126\\nvalue = [103, 23]\\nclass = NotSub'),\n",
       " Text(5.409694793536805, 74.745, 'priorcontacts <= 3.5\\ngini = 0.309\\nsamples = 110\\nvalue = [89, 21]\\nclass = NotSub'),\n",
       " Text(4.20754039497307, 61.155, 'gini = 0.268\\nsamples = 44\\nvalue = [37, 7]\\nclass = NotSub'),\n",
       " Text(6.611849192100539, 61.155, 'priorcontacts <= 4.5\\ngini = 0.334\\nsamples = 66\\nvalue = [52, 14]\\nclass = NotSub'),\n",
       " Text(5.409694793536805, 47.565, 'gini = 0.375\\nsamples = 32\\nvalue = [24, 8]\\nclass = NotSub'),\n",
       " Text(7.8140035906642735, 47.565, 'priorcontacts <= 6.5\\ngini = 0.291\\nsamples = 34\\nvalue = [28, 6]\\nclass = NotSub'),\n",
       " Text(6.611849192100539, 33.974999999999994, 'priorcontacts <= 5.5\\ngini = 0.271\\nsamples = 31\\nvalue = [26, 5]\\nclass = NotSub'),\n",
       " Text(5.409694793536805, 20.38499999999999, 'gini = 0.26\\nsamples = 13\\nvalue = [11, 2]\\nclass = NotSub'),\n",
       " Text(7.8140035906642735, 20.38499999999999, 'gini = 0.278\\nsamples = 18\\nvalue = [15, 3]\\nclass = NotSub'),\n",
       " Text(9.016157989228008, 33.974999999999994, 'gini = 0.444\\nsamples = 3\\nvalue = [2, 1]\\nclass = NotSub'),\n",
       " Text(10.218312387791743, 74.745, 'priorcontacts <= 8.5\\ngini = 0.219\\nsamples = 16\\nvalue = [14, 2]\\nclass = NotSub'),\n",
       " Text(9.016157989228008, 61.155, 'gini = 0.0\\nsamples = 5\\nvalue = [5, 0]\\nclass = NotSub'),\n",
       " Text(11.420466786355476, 61.155, 'priorcontacts <= 9.5\\ngini = 0.298\\nsamples = 11\\nvalue = [9, 2]\\nclass = NotSub'),\n",
       " Text(10.218312387791743, 47.565, 'gini = 0.375\\nsamples = 4\\nvalue = [3, 1]\\nclass = NotSub'),\n",
       " Text(12.622621184919211, 47.565, 'gini = 0.245\\nsamples = 7\\nvalue = [6, 1]\\nclass = NotSub'),\n",
       " Text(13.824775583482946, 88.33500000000001, 'priorcontacts <= 11.5\\ngini = 0.408\\nsamples = 7\\nvalue = [5, 2]\\nclass = NotSub'),\n",
       " Text(12.622621184919211, 74.745, 'gini = 0.375\\nsamples = 4\\nvalue = [3, 1]\\nclass = NotSub'),\n",
       " Text(15.02692998204668, 74.745, 'gini = 0.444\\nsamples = 3\\nvalue = [2, 1]\\nclass = NotSub'),\n",
       " Text(13.223698384201079, 101.925, 'gini = 0.0\\nsamples = 4\\nvalue = [4, 0]\\nclass = NotSub'),\n",
       " Text(14.425852782764814, 115.515, 'gini = 0.0\\nsamples = 10\\nvalue = [10, 0]\\nclass = NotSub'),\n",
       " Text(28.10035906642729, 142.695, 'priorcontacts <= 3.5\\ngini = 0.356\\nsamples = 281\\nvalue = [216, 65]\\nclass = NotSub'),\n",
       " Text(20.436624775583486, 129.10500000000002, 'job_mgmt <= 0.5\\ngini = 0.326\\nsamples = 195\\nvalue = [155, 40]\\nclass = NotSub'),\n",
       " Text(16.83016157989228, 115.515, 'priorcontacts <= 1.5\\ngini = 0.367\\nsamples = 91\\nvalue = [69, 22]\\nclass = NotSub'),\n",
       " Text(15.628007181328547, 101.925, 'gini = 0.418\\nsamples = 37\\nvalue = [26, 11]\\nclass = NotSub'),\n",
       " Text(18.032315978456015, 101.925, 'priorcontacts <= 2.5\\ngini = 0.324\\nsamples = 54\\nvalue = [43, 11]\\nclass = NotSub'),\n",
       " Text(16.83016157989228, 88.33500000000001, 'gini = 0.305\\nsamples = 32\\nvalue = [26, 6]\\nclass = NotSub'),\n",
       " Text(19.23447037701975, 88.33500000000001, 'gini = 0.351\\nsamples = 22\\nvalue = [17, 5]\\nclass = NotSub'),\n",
       " Text(24.043087971274687, 115.515, 'priorcontacts <= 2.5\\ngini = 0.286\\nsamples = 104\\nvalue = [86, 18]\\nclass = NotSub'),\n",
       " Text(22.840933572710952, 101.925, 'priorcontacts <= 1.5\\ngini = 0.308\\nsamples = 84\\nvalue = [68, 16]\\nclass = NotSub'),\n",
       " Text(21.63877917414722, 88.33500000000001, 'gini = 0.285\\nsamples = 29\\nvalue = [24, 5]\\nclass = NotSub'),\n",
       " Text(24.043087971274687, 88.33500000000001, 'gini = 0.32\\nsamples = 55\\nvalue = [44, 11]\\nclass = NotSub'),\n",
       " Text(25.245242369838422, 101.925, 'gini = 0.18\\nsamples = 20\\nvalue = [18, 2]\\nclass = NotSub'),\n",
       " Text(35.7640933572711, 129.10500000000002, 'job_mgmt <= 0.5\\ngini = 0.412\\nsamples = 86\\nvalue = [61, 25]\\nclass = NotSub'),\n",
       " Text(30.05385996409336, 115.515, 'priorcontacts <= 6.5\\ngini = 0.36\\nsamples = 34\\nvalue = [26, 8]\\nclass = NotSub'),\n",
       " Text(27.649551166965892, 101.925, 'priorcontacts <= 5.5\\ngini = 0.444\\nsamples = 21\\nvalue = [14, 7]\\nclass = NotSub'),\n",
       " Text(26.447396768402157, 88.33500000000001, 'priorcontacts <= 4.5\\ngini = 0.391\\nsamples = 15\\nvalue = [11, 4]\\nclass = NotSub'),\n",
       " Text(25.245242369838422, 74.745, 'gini = 0.375\\nsamples = 12\\nvalue = [9, 3]\\nclass = NotSub'),\n",
       " Text(27.649551166965892, 74.745, 'gini = 0.444\\nsamples = 3\\nvalue = [2, 1]\\nclass = NotSub'),\n",
       " Text(28.851705565529628, 88.33500000000001, 'gini = 0.5\\nsamples = 6\\nvalue = [3, 3]\\nclass = NotSub'),\n",
       " Text(32.458168761220826, 101.925, 'priorcontacts <= 9.5\\ngini = 0.142\\nsamples = 13\\nvalue = [12, 1]\\nclass = NotSub'),\n",
       " Text(31.256014362657094, 88.33500000000001, 'priorcontacts <= 8.5\\ngini = 0.245\\nsamples = 7\\nvalue = [6, 1]\\nclass = NotSub'),\n",
       " Text(30.05385996409336, 74.745, 'gini = 0.0\\nsamples = 5\\nvalue = [5, 0]\\nclass = NotSub'),\n",
       " Text(32.458168761220826, 74.745, 'gini = 0.5\\nsamples = 2\\nvalue = [1, 1]\\nclass = NotSub'),\n",
       " Text(33.66032315978456, 88.33500000000001, 'gini = 0.0\\nsamples = 6\\nvalue = [6, 0]\\nclass = NotSub'),\n",
       " Text(41.47432675044884, 115.515, 'priorcontacts <= 7.5\\ngini = 0.44\\nsamples = 52\\nvalue = [35, 17]\\nclass = NotSub'),\n",
       " Text(38.4689407540395, 101.925, 'priorcontacts <= 5.5\\ngini = 0.402\\nsamples = 43\\nvalue = [31, 12]\\nclass = NotSub'),\n",
       " Text(36.06463195691203, 88.33500000000001, 'priorcontacts <= 4.5\\ngini = 0.444\\nsamples = 30\\nvalue = [20, 10]\\nclass = NotSub'),\n",
       " Text(34.862477558348296, 74.745, 'gini = 0.444\\nsamples = 24\\nvalue = [16, 8]\\nclass = NotSub'),\n",
       " Text(37.266786355475766, 74.745, 'gini = 0.444\\nsamples = 6\\nvalue = [4, 2]\\nclass = NotSub'),\n",
       " Text(40.87324955116697, 88.33500000000001, 'priorcontacts <= 6.5\\ngini = 0.26\\nsamples = 13\\nvalue = [11, 2]\\nclass = NotSub'),\n",
       " Text(39.671095152603236, 74.745, 'gini = 0.298\\nsamples = 11\\nvalue = [9, 2]\\nclass = NotSub'),\n",
       " Text(42.075403949730706, 74.745, 'gini = 0.0\\nsamples = 2\\nvalue = [2, 0]\\nclass = NotSub'),\n",
       " Text(44.479712746858176, 101.925, 'priorcontacts <= 8.5\\ngini = 0.494\\nsamples = 9\\nvalue = [4, 5]\\nclass = Sub'),\n",
       " Text(43.27755834829444, 88.33500000000001, 'gini = 0.0\\nsamples = 2\\nvalue = [0, 2]\\nclass = Sub'),\n",
       " Text(45.681867145421904, 88.33500000000001, 'priorcontacts <= 13.0\\ngini = 0.49\\nsamples = 7\\nvalue = [4, 3]\\nclass = NotSub'),\n",
       " Text(44.479712746858176, 74.745, 'priorcontacts <= 10.5\\ngini = 0.444\\nsamples = 6\\nvalue = [4, 2]\\nclass = NotSub'),\n",
       " Text(43.27755834829444, 61.155, 'priorcontacts <= 9.5\\ngini = 0.5\\nsamples = 4\\nvalue = [2, 2]\\nclass = NotSub'),\n",
       " Text(42.075403949730706, 47.565, 'gini = 0.5\\nsamples = 2\\nvalue = [1, 1]\\nclass = NotSub'),\n",
       " Text(44.479712746858176, 47.565, 'gini = 0.5\\nsamples = 2\\nvalue = [1, 1]\\nclass = NotSub'),\n",
       " Text(45.681867145421904, 61.155, 'gini = 0.0\\nsamples = 2\\nvalue = [2, 0]\\nclass = NotSub'),\n",
       " Text(46.88402154398564, 74.745, 'gini = 0.0\\nsamples = 1\\nvalue = [0, 1]\\nclass = Sub'),\n",
       " Text(20.962567324955117, 156.285, 'gini = 0.0\\nsamples = 9\\nvalue = [9, 0]\\nclass = NotSub'),\n",
       " Text(73.85736086175943, 169.875, 'priorcontacts <= 3.5\\ngini = 0.265\\nsamples = 999\\nvalue = [842, 157]\\nclass = NotSub'),\n",
       " Text(54.39748653500898, 156.285, 'job_mgmt <= 0.5\\ngini = 0.233\\nsamples = 685\\nvalue = [593, 92]\\nclass = NotSub'),\n",
       " Text(49.28833034111311, 142.695, 'ps_edu <= 0.5\\ngini = 0.218\\nsamples = 538\\nvalue = [471, 67]\\nclass = NotSub'),\n",
       " Text(46.88402154398564, 129.10500000000002, 'priorcontacts <= 1.5\\ngini = 0.224\\nsamples = 436\\nvalue = [380, 56]\\nclass = NotSub'),\n",
       " Text(45.681867145421904, 115.515, 'gini = 0.255\\nsamples = 167\\nvalue = [142, 25]\\nclass = NotSub'),\n",
       " Text(48.086175942549374, 115.515, 'priorcontacts <= 2.5\\ngini = 0.204\\nsamples = 269\\nvalue = [238, 31]\\nclass = NotSub'),\n",
       " Text(46.88402154398564, 101.925, 'gini = 0.198\\nsamples = 179\\nvalue = [159, 20]\\nclass = NotSub'),\n",
       " Text(49.28833034111311, 101.925, 'gini = 0.215\\nsamples = 90\\nvalue = [79, 11]\\nclass = NotSub'),\n",
       " Text(51.69263913824058, 129.10500000000002, 'priorcontacts <= 1.5\\ngini = 0.192\\nsamples = 102\\nvalue = [91, 11]\\nclass = NotSub'),\n",
       " Text(50.490484739676845, 115.515, 'gini = 0.061\\nsamples = 32\\nvalue = [31, 1]\\nclass = NotSub'),\n",
       " Text(52.894793536804315, 115.515, 'priorcontacts <= 2.5\\ngini = 0.245\\nsamples = 70\\nvalue = [60, 10]\\nclass = NotSub'),\n",
       " Text(51.69263913824058, 101.925, 'gini = 0.227\\nsamples = 46\\nvalue = [40, 6]\\nclass = NotSub'),\n",
       " Text(54.09694793536805, 101.925, 'gini = 0.278\\nsamples = 24\\nvalue = [20, 4]\\nclass = NotSub'),\n",
       " Text(59.50664272890485, 142.695, 'priorcontacts <= 1.5\\ngini = 0.282\\nsamples = 147\\nvalue = [122, 25]\\nclass = NotSub'),\n",
       " Text(56.50125673249552, 129.10500000000002, 'ps_edu <= 0.5\\ngini = 0.252\\nsamples = 54\\nvalue = [46, 8]\\nclass = NotSub'),\n",
       " Text(55.299102333931785, 115.515, 'gini = 0.0\\nsamples = 10\\nvalue = [10, 0]\\nclass = NotSub'),\n",
       " Text(57.703411131059255, 115.515, 'gini = 0.298\\nsamples = 44\\nvalue = [36, 8]\\nclass = NotSub'),\n",
       " Text(62.51202872531419, 129.10500000000002, 'ps_edu <= 0.5\\ngini = 0.299\\nsamples = 93\\nvalue = [76, 17]\\nclass = NotSub'),\n",
       " Text(60.10771992818672, 115.515, 'priorcontacts <= 2.5\\ngini = 0.332\\nsamples = 19\\nvalue = [15, 4]\\nclass = NotSub'),\n",
       " Text(58.90556552962298, 101.925, 'gini = 0.375\\nsamples = 12\\nvalue = [9, 3]\\nclass = NotSub'),\n",
       " Text(61.30987432675045, 101.925, 'gini = 0.245\\nsamples = 7\\nvalue = [6, 1]\\nclass = NotSub'),\n",
       " Text(64.91633752244165, 115.515, 'priorcontacts <= 2.5\\ngini = 0.29\\nsamples = 74\\nvalue = [61, 13]\\nclass = NotSub'),\n",
       " Text(63.71418312387792, 101.925, 'gini = 0.265\\nsamples = 51\\nvalue = [43, 8]\\nclass = NotSub'),\n",
       " Text(66.11849192100539, 101.925, 'gini = 0.34\\nsamples = 23\\nvalue = [18, 5]\\nclass = NotSub'),\n",
       " Text(93.31723518850988, 156.285, 'priorcontacts <= 7.5\\ngini = 0.328\\nsamples = 314\\nvalue = [249, 65]\\nclass = NotSub'),\n",
       " Text(80.84488330341114, 142.695, 'priorcontacts <= 4.5\\ngini = 0.363\\nsamples = 235\\nvalue = [179, 56]\\nclass = NotSub'),\n",
       " Text(72.12926391382406, 129.10500000000002, 'job_mgmt <= 0.5\\ngini = 0.375\\nsamples = 96\\nvalue = [72, 24]\\nclass = NotSub'),\n",
       " Text(69.72495511669659, 115.515, 'ps_edu <= 0.5\\ngini = 0.372\\nsamples = 73\\nvalue = [55, 18]\\nclass = NotSub'),\n",
       " Text(68.52280071813286, 101.925, 'gini = 0.371\\nsamples = 61\\nvalue = [46, 15]\\nclass = NotSub'),\n",
       " Text(70.92710951526033, 101.925, 'gini = 0.375\\nsamples = 12\\nvalue = [9, 3]\\nclass = NotSub'),\n",
       " Text(74.53357271095153, 115.515, 'ps_edu <= 0.5\\ngini = 0.386\\nsamples = 23\\nvalue = [17, 6]\\nclass = NotSub'),\n",
       " Text(73.3314183123878, 101.925, 'gini = 0.5\\nsamples = 2\\nvalue = [1, 1]\\nclass = NotSub'),\n",
       " Text(75.73572710951527, 101.925, 'gini = 0.363\\nsamples = 21\\nvalue = [16, 5]\\nclass = NotSub'),\n",
       " Text(89.56050269299821, 129.10500000000002, 'priorcontacts <= 6.5\\ngini = 0.354\\nsamples = 139\\nvalue = [107, 32]\\nclass = NotSub'),\n",
       " Text(82.94865350089768, 115.515, 'ps_edu <= 0.5\\ngini = 0.349\\nsamples = 111\\nvalue = [86, 25]\\nclass = NotSub'),\n",
       " Text(78.14003590664274, 101.925, 'job_mgmt <= 0.5\\ngini = 0.365\\nsamples = 79\\nvalue = [60, 19]\\nclass = NotSub'),\n",
       " Text(75.73572710951527, 88.33500000000001, 'priorcontacts <= 5.5\\ngini = 0.357\\nsamples = 73\\nvalue = [56, 17]\\nclass = NotSub'),\n",
       " Text(74.53357271095153, 74.745, 'gini = 0.363\\nsamples = 42\\nvalue = [32, 10]\\nclass = NotSub'),\n",
       " Text(76.937881508079, 74.745, 'gini = 0.35\\nsamples = 31\\nvalue = [24, 7]\\nclass = NotSub'),\n",
       " Text(80.54434470377021, 88.33500000000001, 'priorcontacts <= 5.5\\ngini = 0.444\\nsamples = 6\\nvalue = [4, 2]\\nclass = NotSub'),\n",
       " Text(79.34219030520647, 74.745, 'gini = 0.0\\nsamples = 2\\nvalue = [2, 0]\\nclass = NotSub'),\n",
       " Text(81.74649910233394, 74.745, 'gini = 0.5\\nsamples = 4\\nvalue = [2, 2]\\nclass = NotSub'),\n",
       " Text(87.75727109515262, 101.925, 'priorcontacts <= 5.5\\ngini = 0.305\\nsamples = 32\\nvalue = [26, 6]\\nclass = NotSub'),\n",
       " Text(85.35296229802515, 88.33500000000001, 'job_mgmt <= 0.5\\ngini = 0.391\\nsamples = 15\\nvalue = [11, 4]\\nclass = NotSub'),\n",
       " Text(84.15080789946141, 74.745, 'gini = 0.32\\nsamples = 5\\nvalue = [4, 1]\\nclass = NotSub'),\n",
       " Text(86.55511669658888, 74.745, 'gini = 0.42\\nsamples = 10\\nvalue = [7, 3]\\nclass = NotSub'),\n",
       " Text(90.16157989228007, 88.33500000000001, 'job_mgmt <= 0.5\\ngini = 0.208\\nsamples = 17\\nvalue = [15, 2]\\nclass = NotSub'),\n",
       " Text(88.95942549371635, 74.745, 'gini = 0.375\\nsamples = 8\\nvalue = [6, 2]\\nclass = NotSub'),\n",
       " Text(91.36373429084381, 74.745, 'gini = 0.0\\nsamples = 9\\nvalue = [9, 0]\\nclass = NotSub'),\n",
       " Text(96.17235188509875, 115.515, 'ps_edu <= 0.5\\ngini = 0.375\\nsamples = 28\\nvalue = [21, 7]\\nclass = NotSub'),\n",
       " Text(93.76804308797128, 101.925, 'job_mgmt <= 0.5\\ngini = 0.278\\nsamples = 18\\nvalue = [15, 3]\\nclass = NotSub'),\n",
       " Text(92.56588868940754, 88.33500000000001, 'gini = 0.305\\nsamples = 16\\nvalue = [13, 3]\\nclass = NotSub'),\n",
       " Text(94.97019748653501, 88.33500000000001, 'gini = 0.0\\nsamples = 2\\nvalue = [2, 0]\\nclass = NotSub'),\n",
       " Text(98.57666068222622, 101.925, 'job_mgmt <= 0.5\\ngini = 0.48\\nsamples = 10\\nvalue = [6, 4]\\nclass = NotSub'),\n",
       " Text(97.37450628366248, 88.33500000000001, 'gini = 0.48\\nsamples = 5\\nvalue = [3, 2]\\nclass = NotSub'),\n",
       " Text(99.77881508078995, 88.33500000000001, 'gini = 0.48\\nsamples = 5\\nvalue = [3, 2]\\nclass = NotSub'),\n",
       " Text(105.78958707360863, 142.695, 'priorcontacts <= 8.5\\ngini = 0.202\\nsamples = 79\\nvalue = [70, 9]\\nclass = NotSub'),\n",
       " Text(104.5874326750449, 129.10500000000002, 'gini = 0.0\\nsamples = 21\\nvalue = [21, 0]\\nclass = NotSub'),\n",
       " Text(106.99174147217236, 129.10500000000002, 'priorcontacts <= 15.5\\ngini = 0.262\\nsamples = 58\\nvalue = [49, 9]\\nclass = NotSub'),\n",
       " Text(105.78958707360863, 115.515, 'priorcontacts <= 14.5\\ngini = 0.291\\nsamples = 51\\nvalue = [42, 9]\\nclass = NotSub'),\n",
       " Text(103.38527827648116, 101.925, 'priorcontacts <= 13.5\\ngini = 0.278\\nsamples = 48\\nvalue = [40, 8]\\nclass = NotSub'),\n",
       " Text(102.18312387791742, 88.33500000000001, 'priorcontacts <= 9.5\\ngini = 0.308\\nsamples = 42\\nvalue = [34, 8]\\nclass = NotSub'),\n",
       " Text(99.77881508078995, 74.745, 'job_mgmt <= 0.5\\ngini = 0.245\\nsamples = 14\\nvalue = [12, 2]\\nclass = NotSub'),\n",
       " Text(98.57666068222622, 61.155, 'gini = 0.0\\nsamples = 9\\nvalue = [9, 0]\\nclass = NotSub'),\n",
       " Text(100.98096947935369, 61.155, 'gini = 0.48\\nsamples = 5\\nvalue = [3, 2]\\nclass = NotSub'),\n",
       " Text(104.5874326750449, 74.745, 'job_mgmt <= 0.5\\ngini = 0.337\\nsamples = 28\\nvalue = [22, 6]\\nclass = NotSub'),\n",
       " Text(103.38527827648116, 61.155, 'priorcontacts <= 10.5\\ngini = 0.408\\nsamples = 21\\nvalue = [15, 6]\\nclass = NotSub'),\n",
       " Text(100.98096947935369, 47.565, 'ps_edu <= 0.5\\ngini = 0.469\\nsamples = 8\\nvalue = [5, 3]\\nclass = NotSub'),\n",
       " Text(99.77881508078995, 33.974999999999994, 'gini = 0.49\\nsamples = 7\\nvalue = [4, 3]\\nclass = NotSub'),\n",
       " Text(102.18312387791742, 33.974999999999994, 'gini = 0.0\\nsamples = 1\\nvalue = [1, 0]\\nclass = NotSub'),\n",
       " Text(105.78958707360863, 47.565, 'ps_edu <= 0.5\\ngini = 0.355\\nsamples = 13\\nvalue = [10, 3]\\nclass = NotSub'),\n",
       " Text(104.5874326750449, 33.974999999999994, 'priorcontacts <= 12.5\\ngini = 0.278\\nsamples = 12\\nvalue = [10, 2]\\nclass = NotSub'),\n",
       " Text(103.38527827648116, 20.38499999999999, 'priorcontacts <= 11.5\\ngini = 0.18\\nsamples = 10\\nvalue = [9, 1]\\nclass = NotSub'),\n",
       " Text(102.18312387791742, 6.7949999999999875, 'gini = 0.245\\nsamples = 7\\nvalue = [6, 1]\\nclass = NotSub'),\n",
       " Text(104.5874326750449, 6.7949999999999875, 'gini = 0.0\\nsamples = 3\\nvalue = [3, 0]\\nclass = NotSub'),\n",
       " Text(105.78958707360863, 20.38499999999999, 'gini = 0.5\\nsamples = 2\\nvalue = [1, 1]\\nclass = NotSub'),\n",
       " Text(106.99174147217236, 33.974999999999994, 'gini = 0.0\\nsamples = 1\\nvalue = [0, 1]\\nclass = Sub'),\n",
       " Text(105.78958707360863, 61.155, 'gini = 0.0\\nsamples = 7\\nvalue = [7, 0]\\nclass = NotSub'),\n",
       " Text(104.5874326750449, 88.33500000000001, 'gini = 0.0\\nsamples = 6\\nvalue = [6, 0]\\nclass = NotSub'),\n",
       " Text(108.1938958707361, 101.925, 'ps_edu <= 0.5\\ngini = 0.444\\nsamples = 3\\nvalue = [2, 1]\\nclass = NotSub'),\n",
       " Text(106.99174147217236, 88.33500000000001, 'gini = 0.0\\nsamples = 1\\nvalue = [0, 1]\\nclass = Sub'),\n",
       " Text(109.39605026929983, 88.33500000000001, 'gini = 0.0\\nsamples = 2\\nvalue = [2, 0]\\nclass = NotSub'),\n",
       " Text(108.1938958707361, 115.515, 'gini = 0.0\\nsamples = 7\\nvalue = [7, 0]\\nclass = NotSub'),\n",
       " Text(138.9991023339318, 183.465, 'priorcontacts <= 2.5\\ngini = 0.137\\nsamples = 285\\nvalue = [264, 21]\\nclass = NotSub'),\n",
       " Text(126.52675044883304, 169.875, 'ps_edu <= 0.5\\ngini = 0.181\\nsamples = 169\\nvalue = [152, 17]\\nclass = NotSub'),\n",
       " Text(119.0132854578097, 156.285, 'priorcontacts <= 1.5\\ngini = 0.205\\nsamples = 121\\nvalue = [107, 14]\\nclass = NotSub'),\n",
       " Text(114.20466786355477, 142.695, 'married <= 0.5\\ngini = 0.184\\nsamples = 78\\nvalue = [70, 8]\\nclass = NotSub'),\n",
       " Text(111.8003590664273, 129.10500000000002, 'job_mgmt <= 0.5\\ngini = 0.234\\nsamples = 37\\nvalue = [32, 5]\\nclass = NotSub'),\n",
       " Text(110.59820466786357, 115.515, 'gini = 0.239\\nsamples = 36\\nvalue = [31, 5]\\nclass = NotSub'),\n",
       " Text(113.00251346499104, 115.515, 'gini = 0.0\\nsamples = 1\\nvalue = [1, 0]\\nclass = NotSub'),\n",
       " Text(116.60897666068223, 129.10500000000002, 'job_mgmt <= 0.5\\ngini = 0.136\\nsamples = 41\\nvalue = [38, 3]\\nclass = NotSub'),\n",
       " Text(115.40682226211851, 115.515, 'gini = 0.142\\nsamples = 39\\nvalue = [36, 3]\\nclass = NotSub'),\n",
       " Text(117.81113105924597, 115.515, 'gini = 0.0\\nsamples = 2\\nvalue = [2, 0]\\nclass = NotSub'),\n",
       " Text(123.82190305206464, 142.695, 'job_mgmt <= 0.5\\ngini = 0.24\\nsamples = 43\\nvalue = [37, 6]\\nclass = NotSub'),\n",
       " Text(121.41759425493717, 129.10500000000002, 'married <= 0.5\\ngini = 0.219\\nsamples = 40\\nvalue = [35, 5]\\nclass = NotSub'),\n",
       " Text(120.21543985637344, 115.515, 'gini = 0.245\\nsamples = 14\\nvalue = [12, 2]\\nclass = NotSub'),\n",
       " Text(122.6197486535009, 115.515, 'gini = 0.204\\nsamples = 26\\nvalue = [23, 3]\\nclass = NotSub'),\n",
       " Text(126.22621184919211, 129.10500000000002, 'married <= 0.5\\ngini = 0.444\\nsamples = 3\\nvalue = [2, 1]\\nclass = NotSub'),\n",
       " Text(125.02405745062838, 115.515, 'gini = 0.0\\nsamples = 1\\nvalue = [1, 0]\\nclass = NotSub'),\n",
       " Text(127.42836624775585, 115.515, 'gini = 0.5\\nsamples = 2\\nvalue = [1, 1]\\nclass = NotSub'),\n",
       " Text(134.04021543985638, 156.285, 'priorcontacts <= 1.5\\ngini = 0.117\\nsamples = 48\\nvalue = [45, 3]\\nclass = NotSub'),\n",
       " Text(129.8326750448833, 142.695, 'married <= 0.5\\ngini = 0.071\\nsamples = 27\\nvalue = [26, 1]\\nclass = NotSub'),\n",
       " Text(128.63052064631958, 129.10500000000002, 'gini = 0.0\\nsamples = 14\\nvalue = [14, 0]\\nclass = NotSub'),\n",
       " Text(131.03482944344705, 129.10500000000002, 'job_mgmt <= 0.5\\ngini = 0.142\\nsamples = 13\\nvalue = [12, 1]\\nclass = NotSub'),\n",
       " Text(129.8326750448833, 115.515, 'gini = 0.0\\nsamples = 3\\nvalue = [3, 0]\\nclass = NotSub'),\n",
       " Text(132.23698384201077, 115.515, 'gini = 0.18\\nsamples = 10\\nvalue = [9, 1]\\nclass = NotSub'),\n",
       " Text(138.24775583482946, 142.695, 'job_mgmt <= 0.5\\ngini = 0.172\\nsamples = 21\\nvalue = [19, 2]\\nclass = NotSub'),\n",
       " Text(135.843447037702, 129.10500000000002, 'married <= 0.5\\ngini = 0.32\\nsamples = 5\\nvalue = [4, 1]\\nclass = NotSub'),\n",
       " Text(134.64129263913824, 115.515, 'gini = 0.5\\nsamples = 2\\nvalue = [1, 1]\\nclass = NotSub'),\n",
       " Text(137.0456014362657, 115.515, 'gini = 0.0\\nsamples = 3\\nvalue = [3, 0]\\nclass = NotSub'),\n",
       " Text(140.65206463195693, 129.10500000000002, 'married <= 0.5\\ngini = 0.117\\nsamples = 16\\nvalue = [15, 1]\\nclass = NotSub'),\n",
       " Text(139.44991023339318, 115.515, 'gini = 0.0\\nsamples = 6\\nvalue = [6, 0]\\nclass = NotSub'),\n",
       " Text(141.85421903052065, 115.515, 'gini = 0.18\\nsamples = 10\\nvalue = [9, 1]\\nclass = NotSub'),\n",
       " Text(151.47145421903053, 169.875, 'priorcontacts <= 4.5\\ngini = 0.067\\nsamples = 116\\nvalue = [112, 4]\\nclass = NotSub'),\n",
       " Text(147.86499102333934, 156.285, 'married <= 0.5\\ngini = 0.033\\nsamples = 59\\nvalue = [58, 1]\\nclass = NotSub'),\n",
       " Text(146.6628366247756, 142.695, 'priorcontacts <= 3.5\\ngini = 0.087\\nsamples = 22\\nvalue = [21, 1]\\nclass = NotSub'),\n",
       " Text(145.46068222621187, 129.10500000000002, 'job_mgmt <= 0.5\\ngini = 0.133\\nsamples = 14\\nvalue = [13, 1]\\nclass = NotSub'),\n",
       " Text(144.25852782764812, 115.515, 'ps_edu <= 0.5\\ngini = 0.198\\nsamples = 9\\nvalue = [8, 1]\\nclass = NotSub'),\n",
       " Text(143.0563734290844, 101.925, 'gini = 0.219\\nsamples = 8\\nvalue = [7, 1]\\nclass = NotSub'),\n",
       " Text(145.46068222621187, 101.925, 'gini = 0.0\\nsamples = 1\\nvalue = [1, 0]\\nclass = NotSub'),\n",
       " Text(146.6628366247756, 115.515, 'gini = 0.0\\nsamples = 5\\nvalue = [5, 0]\\nclass = NotSub'),\n",
       " Text(147.86499102333934, 129.10500000000002, 'gini = 0.0\\nsamples = 8\\nvalue = [8, 0]\\nclass = NotSub'),\n",
       " Text(149.06714542190306, 142.695, 'gini = 0.0\\nsamples = 37\\nvalue = [37, 0]\\nclass = NotSub'),\n",
       " Text(155.07791741472172, 156.285, 'priorcontacts <= 9.5\\ngini = 0.1\\nsamples = 57\\nvalue = [54, 3]\\nclass = NotSub'),\n",
       " Text(153.875763016158, 142.695, 'priorcontacts <= 8.5\\ngini = 0.136\\nsamples = 41\\nvalue = [38, 3]\\nclass = NotSub'),\n",
       " Text(151.47145421903053, 129.10500000000002, 'priorcontacts <= 6.5\\ngini = 0.105\\nsamples = 36\\nvalue = [34, 2]\\nclass = NotSub'),\n",
       " Text(150.2692998204668, 115.515, 'married <= 0.5\\ngini = 0.128\\nsamples = 29\\nvalue = [27, 2]\\nclass = NotSub'),\n",
       " Text(147.86499102333934, 101.925, 'priorcontacts <= 5.5\\ngini = 0.18\\nsamples = 10\\nvalue = [9, 1]\\nclass = NotSub'),\n",
       " Text(146.6628366247756, 88.33500000000001, 'gini = 0.32\\nsamples = 5\\nvalue = [4, 1]\\nclass = NotSub'),\n",
       " Text(149.06714542190306, 88.33500000000001, 'gini = 0.0\\nsamples = 5\\nvalue = [5, 0]\\nclass = NotSub'),\n",
       " Text(152.67360861759428, 101.925, 'priorcontacts <= 5.5\\ngini = 0.1\\nsamples = 19\\nvalue = [18, 1]\\nclass = NotSub'),\n",
       " Text(151.47145421903053, 88.33500000000001, 'gini = 0.0\\nsamples = 7\\nvalue = [7, 0]\\nclass = NotSub'),\n",
       " Text(153.875763016158, 88.33500000000001, 'ps_edu <= 0.5\\ngini = 0.153\\nsamples = 12\\nvalue = [11, 1]\\nclass = NotSub'),\n",
       " Text(152.67360861759428, 74.745, 'gini = 0.165\\nsamples = 11\\nvalue = [10, 1]\\nclass = NotSub'),\n",
       " Text(155.07791741472172, 74.745, 'gini = 0.0\\nsamples = 1\\nvalue = [1, 0]\\nclass = NotSub'),\n",
       " Text(152.67360861759428, 115.515, 'gini = 0.0\\nsamples = 7\\nvalue = [7, 0]\\nclass = NotSub'),\n",
       " Text(156.28007181328547, 129.10500000000002, 'married <= 0.5\\ngini = 0.32\\nsamples = 5\\nvalue = [4, 1]\\nclass = NotSub'),\n",
       " Text(155.07791741472172, 115.515, 'gini = 0.0\\nsamples = 2\\nvalue = [2, 0]\\nclass = NotSub'),\n",
       " Text(157.4822262118492, 115.515, 'ps_edu <= 0.5\\ngini = 0.444\\nsamples = 3\\nvalue = [2, 1]\\nclass = NotSub'),\n",
       " Text(156.28007181328547, 101.925, 'gini = 0.0\\nsamples = 2\\nvalue = [2, 0]\\nclass = NotSub'),\n",
       " Text(158.68438061041294, 101.925, 'gini = 0.0\\nsamples = 1\\nvalue = [0, 1]\\nclass = Sub'),\n",
       " Text(156.28007181328547, 142.695, 'gini = 0.0\\nsamples = 16\\nvalue = [16, 0]\\nclass = NotSub'),\n",
       " Text(246.93941876122085, 197.055, 'ps_edu <= 0.5\\ngini = 0.167\\nsamples = 2559\\nvalue = [2324, 235]\\nclass = NotSub'),\n",
       " Text(205.39934919210054, 183.465, 'married <= 0.5\\ngini = 0.147\\nsamples = 1896\\nvalue = [1744, 152]\\nclass = NotSub'),\n",
       " Text(181.48774685816878, 169.875, 'priorcontacts <= 3.5\\ngini = 0.187\\nsamples = 631\\nvalue = [565, 66]\\nclass = NotSub'),\n",
       " Text(169.20323159784562, 156.285, 'job_mgmt <= 0.5\\ngini = 0.163\\nsamples = 446\\nvalue = [406, 40]\\nclass = NotSub'),\n",
       " Text(164.09407540394974, 142.695, 'priorcontacts <= 1.5\\ngini = 0.167\\nsamples = 424\\nvalue = [385, 39]\\nclass = NotSub'),\n",
       " Text(161.08868940754041, 129.10500000000002, 'pers_loan <= 0.5\\ngini = 0.15\\nsamples = 183\\nvalue = [168, 15]\\nclass = NotSub'),\n",
       " Text(159.88653500897667, 115.515, 'gini = 0.154\\nsamples = 155\\nvalue = [142, 13]\\nclass = NotSub'),\n",
       " Text(162.29084380610414, 115.515, 'gini = 0.133\\nsamples = 28\\nvalue = [26, 2]\\nclass = NotSub'),\n",
       " Text(167.09946140035908, 129.10500000000002, 'pers_loan <= 0.5\\ngini = 0.179\\nsamples = 241\\nvalue = [217, 24]\\nclass = NotSub'),\n",
       " Text(164.6951526032316, 115.515, 'priorcontacts <= 2.5\\ngini = 0.186\\nsamples = 212\\nvalue = [190, 22]\\nclass = NotSub'),\n",
       " Text(163.49299820466788, 101.925, 'gini = 0.201\\nsamples = 141\\nvalue = [125, 16]\\nclass = NotSub'),\n",
       " Text(165.89730700179535, 101.925, 'gini = 0.155\\nsamples = 71\\nvalue = [65, 6]\\nclass = NotSub'),\n",
       " Text(169.50377019748655, 115.515, 'priorcontacts <= 2.5\\ngini = 0.128\\nsamples = 29\\nvalue = [27, 2]\\nclass = NotSub'),\n",
       " Text(168.30161579892282, 101.925, 'gini = 0.095\\nsamples = 20\\nvalue = [19, 1]\\nclass = NotSub'),\n",
       " Text(170.7059245960503, 101.925, 'gini = 0.198\\nsamples = 9\\nvalue = [8, 1]\\nclass = NotSub'),\n",
       " Text(174.3123877917415, 142.695, 'priorcontacts <= 1.5\\ngini = 0.087\\nsamples = 22\\nvalue = [21, 1]\\nclass = NotSub'),\n",
       " Text(173.11023339317777, 129.10500000000002, 'pers_loan <= 0.5\\ngini = 0.142\\nsamples = 13\\nvalue = [12, 1]\\nclass = NotSub'),\n",
       " Text(171.90807899461402, 115.515, 'gini = 0.153\\nsamples = 12\\nvalue = [11, 1]\\nclass = NotSub'),\n",
       " Text(174.3123877917415, 115.515, 'gini = 0.0\\nsamples = 1\\nvalue = [1, 0]\\nclass = NotSub'),\n",
       " Text(175.51454219030524, 129.10500000000002, 'gini = 0.0\\nsamples = 9\\nvalue = [9, 0]\\nclass = NotSub'),\n",
       " Text(193.77226211849194, 156.285, 'priorcontacts <= 10.5\\ngini = 0.242\\nsamples = 185\\nvalue = [159, 26]\\nclass = NotSub'),\n",
       " Text(187.3858168761221, 142.695, 'priorcontacts <= 7.5\\ngini = 0.26\\nsamples = 163\\nvalue = [138, 25]\\nclass = NotSub'),\n",
       " Text(180.02262118491922, 129.10500000000002, 'pers_loan <= 0.5\\ngini = 0.234\\nsamples = 133\\nvalue = [115, 18]\\nclass = NotSub'),\n",
       " Text(176.71669658886896, 115.515, 'priorcontacts <= 6.5\\ngini = 0.254\\nsamples = 114\\nvalue = [97, 17]\\nclass = NotSub'),\n",
       " Text(173.71131059245963, 101.925, 'priorcontacts <= 5.5\\ngini = 0.278\\nsamples = 96\\nvalue = [80, 16]\\nclass = NotSub'),\n",
       " Text(171.30700179533216, 88.33500000000001, 'job_mgmt <= 0.5\\ngini = 0.25\\nsamples = 75\\nvalue = [64, 11]\\nclass = NotSub'),\n",
       " Text(170.1048473967684, 74.745, 'priorcontacts <= 4.5\\ngini = 0.256\\nsamples = 73\\nvalue = [62, 11]\\nclass = NotSub'),\n",
       " Text(168.90269299820469, 61.155, 'gini = 0.289\\nsamples = 40\\nvalue = [33, 7]\\nclass = NotSub'),\n",
       " Text(171.30700179533216, 61.155, 'gini = 0.213\\nsamples = 33\\nvalue = [29, 4]\\nclass = NotSub'),\n",
       " Text(172.50915619389588, 74.745, 'gini = 0.0\\nsamples = 2\\nvalue = [2, 0]\\nclass = NotSub'),\n",
       " Text(176.1156193895871, 88.33500000000001, 'job_mgmt <= 0.5\\ngini = 0.363\\nsamples = 21\\nvalue = [16, 5]\\nclass = NotSub'),\n",
       " Text(174.91346499102335, 74.745, 'gini = 0.375\\nsamples = 20\\nvalue = [15, 5]\\nclass = NotSub'),\n",
       " Text(177.31777378815082, 74.745, 'gini = 0.0\\nsamples = 1\\nvalue = [1, 0]\\nclass = NotSub'),\n",
       " Text(179.7220825852783, 101.925, 'job_mgmt <= 0.5\\ngini = 0.105\\nsamples = 18\\nvalue = [17, 1]\\nclass = NotSub'),\n",
       " Text(178.51992818671457, 88.33500000000001, 'gini = 0.111\\nsamples = 17\\nvalue = [16, 1]\\nclass = NotSub'),\n",
       " Text(180.92423698384204, 88.33500000000001, 'gini = 0.0\\nsamples = 1\\nvalue = [1, 0]\\nclass = NotSub'),\n",
       " Text(183.3285457809695, 115.515, 'priorcontacts <= 6.5\\ngini = 0.1\\nsamples = 19\\nvalue = [18, 1]\\nclass = NotSub'),\n",
       " Text(182.12639138240576, 101.925, 'gini = 0.0\\nsamples = 17\\nvalue = [17, 0]\\nclass = NotSub'),\n",
       " Text(184.53070017953323, 101.925, 'job_mgmt <= 0.5\\ngini = 0.5\\nsamples = 2\\nvalue = [1, 1]\\nclass = NotSub'),\n",
       " Text(183.3285457809695, 88.33500000000001, 'gini = 0.0\\nsamples = 1\\nvalue = [0, 1]\\nclass = Sub'),\n",
       " Text(185.73285457809698, 88.33500000000001, 'gini = 0.0\\nsamples = 1\\nvalue = [1, 0]\\nclass = NotSub'),\n",
       " Text(194.74901256732497, 129.10500000000002, 'priorcontacts <= 9.5\\ngini = 0.358\\nsamples = 30\\nvalue = [23, 7]\\nclass = NotSub'),\n",
       " Text(191.74362657091564, 115.515, 'priorcontacts <= 8.5\\ngini = 0.397\\nsamples = 22\\nvalue = [16, 6]\\nclass = NotSub'),\n",
       " Text(189.33931777378817, 101.925, 'pers_loan <= 0.5\\ngini = 0.337\\nsamples = 14\\nvalue = [11, 3]\\nclass = NotSub'),\n",
       " Text(188.13716337522445, 88.33500000000001, 'job_mgmt <= 0.5\\ngini = 0.18\\nsamples = 10\\nvalue = [9, 1]\\nclass = NotSub'),\n",
       " Text(186.9350089766607, 74.745, 'gini = 0.198\\nsamples = 9\\nvalue = [8, 1]\\nclass = NotSub'),\n",
       " Text(189.33931777378817, 74.745, 'gini = 0.0\\nsamples = 1\\nvalue = [1, 0]\\nclass = NotSub'),\n",
       " Text(190.54147217235192, 88.33500000000001, 'gini = 0.5\\nsamples = 4\\nvalue = [2, 2]\\nclass = NotSub'),\n",
       " Text(194.1479353680431, 101.925, 'pers_loan <= 0.5\\ngini = 0.469\\nsamples = 8\\nvalue = [5, 3]\\nclass = NotSub'),\n",
       " Text(192.94578096947936, 88.33500000000001, 'gini = 0.49\\nsamples = 7\\nvalue = [4, 3]\\nclass = NotSub'),\n",
       " Text(195.35008976660683, 88.33500000000001, 'gini = 0.0\\nsamples = 1\\nvalue = [1, 0]\\nclass = NotSub'),\n",
       " Text(197.7543985637343, 115.515, 'pers_loan <= 0.5\\ngini = 0.219\\nsamples = 8\\nvalue = [7, 1]\\nclass = NotSub'),\n",
       " Text(196.55224416517058, 101.925, 'gini = 0.278\\nsamples = 6\\nvalue = [5, 1]\\nclass = NotSub'),\n",
       " Text(198.95655296229805, 101.925, 'gini = 0.0\\nsamples = 2\\nvalue = [2, 0]\\nclass = NotSub'),\n",
       " Text(200.15870736086177, 142.695, 'priorcontacts <= 14.5\\ngini = 0.087\\nsamples = 22\\nvalue = [21, 1]\\nclass = NotSub'),\n",
       " Text(198.95655296229805, 129.10500000000002, 'gini = 0.0\\nsamples = 14\\nvalue = [14, 0]\\nclass = NotSub'),\n",
       " Text(201.36086175942552, 129.10500000000002, 'priorcontacts <= 15.5\\ngini = 0.219\\nsamples = 8\\nvalue = [7, 1]\\nclass = NotSub'),\n",
       " Text(200.15870736086177, 115.515, 'gini = 0.5\\nsamples = 2\\nvalue = [1, 1]\\nclass = NotSub'),\n",
       " Text(202.56301615798924, 115.515, 'gini = 0.0\\nsamples = 6\\nvalue = [6, 0]\\nclass = NotSub'),\n",
       " Text(229.31095152603234, 169.875, 'pers_loan <= 0.5\\ngini = 0.127\\nsamples = 1265\\nvalue = [1179, 86]\\nclass = NotSub'),\n",
       " Text(216.98886894075406, 156.285, 'job_mgmt <= 0.5\\ngini = 0.136\\nsamples = 1046\\nvalue = [969, 77]\\nclass = NotSub'),\n",
       " Text(209.77594254937165, 142.695, 'priorcontacts <= 6.5\\ngini = 0.131\\nsamples = 977\\nvalue = [908, 69]\\nclass = NotSub'),\n",
       " Text(206.16947935368046, 129.10500000000002, 'priorcontacts <= 5.5\\ngini = 0.138\\nsamples = 882\\nvalue = [816, 66]\\nclass = NotSub'),\n",
       " Text(204.9673249551167, 115.515, 'priorcontacts <= 3.5\\ngini = 0.133\\nsamples = 837\\nvalue = [777, 60]\\nclass = NotSub'),\n",
       " Text(202.56301615798924, 101.925, 'priorcontacts <= 1.5\\ngini = 0.141\\nsamples = 718\\nvalue = [663, 55]\\nclass = NotSub'),\n",
       " Text(201.36086175942552, 88.33500000000001, 'gini = 0.132\\nsamples = 295\\nvalue = [274, 21]\\nclass = NotSub'),\n",
       " Text(203.765170556553, 88.33500000000001, 'priorcontacts <= 2.5\\ngini = 0.148\\nsamples = 423\\nvalue = [389, 34]\\nclass = NotSub'),\n",
       " Text(202.56301615798924, 74.745, 'gini = 0.154\\nsamples = 273\\nvalue = [250, 23]\\nclass = NotSub'),\n",
       " Text(204.9673249551167, 74.745, 'gini = 0.136\\nsamples = 150\\nvalue = [139, 11]\\nclass = NotSub'),\n",
       " Text(207.37163375224418, 101.925, 'priorcontacts <= 4.5\\ngini = 0.081\\nsamples = 119\\nvalue = [114, 5]\\nclass = NotSub'),\n",
       " Text(206.16947935368046, 88.33500000000001, 'gini = 0.079\\nsamples = 73\\nvalue = [70, 3]\\nclass = NotSub'),\n",
       " Text(208.57378815080793, 88.33500000000001, 'gini = 0.083\\nsamples = 46\\nvalue = [44, 2]\\nclass = NotSub'),\n",
       " Text(207.37163375224418, 115.515, 'gini = 0.231\\nsamples = 45\\nvalue = [39, 6]\\nclass = NotSub'),\n",
       " Text(213.38240574506287, 129.10500000000002, 'priorcontacts <= 12.5\\ngini = 0.061\\nsamples = 95\\nvalue = [92, 3]\\nclass = NotSub'),\n",
       " Text(210.9780969479354, 115.515, 'priorcontacts <= 7.5\\ngini = 0.028\\nsamples = 70\\nvalue = [69, 1]\\nclass = NotSub'),\n",
       " Text(209.77594254937165, 101.925, 'gini = 0.087\\nsamples = 22\\nvalue = [21, 1]\\nclass = NotSub'),\n",
       " Text(212.18025134649912, 101.925, 'gini = 0.0\\nsamples = 48\\nvalue = [48, 0]\\nclass = NotSub'),\n",
       " Text(215.78671454219034, 115.515, 'priorcontacts <= 17.5\\ngini = 0.147\\nsamples = 25\\nvalue = [23, 2]\\nclass = NotSub'),\n",
       " Text(214.5845601436266, 101.925, 'priorcontacts <= 13.5\\ngini = 0.26\\nsamples = 13\\nvalue = [11, 2]\\nclass = NotSub'),\n",
       " Text(213.38240574506287, 88.33500000000001, 'gini = 0.375\\nsamples = 4\\nvalue = [3, 1]\\nclass = NotSub'),\n",
       " Text(215.78671454219034, 88.33500000000001, 'priorcontacts <= 16.5\\ngini = 0.198\\nsamples = 9\\nvalue = [8, 1]\\nclass = NotSub'),\n",
       " Text(214.5845601436266, 74.745, 'gini = 0.0\\nsamples = 5\\nvalue = [5, 0]\\nclass = NotSub'),\n",
       " Text(216.98886894075406, 74.745, 'gini = 0.375\\nsamples = 4\\nvalue = [3, 1]\\nclass = NotSub'),\n",
       " Text(216.98886894075406, 101.925, 'gini = 0.0\\nsamples = 12\\nvalue = [12, 0]\\nclass = NotSub'),\n",
       " Text(224.20179533213647, 142.695, 'priorcontacts <= 5.5\\ngini = 0.205\\nsamples = 69\\nvalue = [61, 8]\\nclass = NotSub'),\n",
       " Text(221.797486535009, 129.10500000000002, 'priorcontacts <= 3.5\\ngini = 0.175\\nsamples = 62\\nvalue = [56, 6]\\nclass = NotSub'),\n",
       " Text(220.59533213644525, 115.515, 'priorcontacts <= 2.5\\ngini = 0.194\\nsamples = 55\\nvalue = [49, 6]\\nclass = NotSub'),\n",
       " Text(219.39317773788153, 101.925, 'priorcontacts <= 1.5\\ngini = 0.142\\nsamples = 39\\nvalue = [36, 3]\\nclass = NotSub'),\n",
       " Text(218.19102333931778, 88.33500000000001, 'gini = 0.198\\nsamples = 18\\nvalue = [16, 2]\\nclass = NotSub'),\n",
       " Text(220.59533213644525, 88.33500000000001, 'gini = 0.091\\nsamples = 21\\nvalue = [20, 1]\\nclass = NotSub'),\n",
       " Text(221.797486535009, 101.925, 'gini = 0.305\\nsamples = 16\\nvalue = [13, 3]\\nclass = NotSub'),\n",
       " Text(222.99964093357272, 115.515, 'gini = 0.0\\nsamples = 7\\nvalue = [7, 0]\\nclass = NotSub'),\n",
       " Text(226.60610412926394, 129.10500000000002, 'priorcontacts <= 10.5\\ngini = 0.408\\nsamples = 7\\nvalue = [5, 2]\\nclass = NotSub'),\n",
       " Text(225.4039497307002, 115.515, 'priorcontacts <= 8.5\\ngini = 0.48\\nsamples = 5\\nvalue = [3, 2]\\nclass = NotSub'),\n",
       " Text(224.20179533213647, 101.925, 'priorcontacts <= 6.5\\ngini = 0.375\\nsamples = 4\\nvalue = [3, 1]\\nclass = NotSub'),\n",
       " Text(222.99964093357272, 88.33500000000001, 'gini = 0.5\\nsamples = 2\\nvalue = [1, 1]\\nclass = NotSub'),\n",
       " Text(225.4039497307002, 88.33500000000001, 'gini = 0.0\\nsamples = 2\\nvalue = [2, 0]\\nclass = NotSub'),\n",
       " Text(226.60610412926394, 101.925, 'gini = 0.0\\nsamples = 1\\nvalue = [0, 1]\\nclass = Sub'),\n",
       " Text(227.80825852782766, 115.515, 'gini = 0.0\\nsamples = 2\\nvalue = [2, 0]\\nclass = NotSub'),\n",
       " Text(241.63303411131062, 156.285, 'priorcontacts <= 21.5\\ngini = 0.079\\nsamples = 219\\nvalue = [210, 9]\\nclass = NotSub'),\n",
       " Text(237.42549371633754, 142.695, 'priorcontacts <= 2.5\\ngini = 0.071\\nsamples = 217\\nvalue = [209, 8]\\nclass = NotSub'),\n",
       " Text(232.6168761220826, 129.10500000000002, 'priorcontacts <= 1.5\\ngini = 0.051\\nsamples = 115\\nvalue = [112, 3]\\nclass = NotSub'),\n",
       " Text(230.21256732495513, 115.515, 'job_mgmt <= 0.5\\ngini = 0.067\\nsamples = 58\\nvalue = [56, 2]\\nclass = NotSub'),\n",
       " Text(229.0104129263914, 101.925, 'gini = 0.068\\nsamples = 57\\nvalue = [55, 2]\\nclass = NotSub'),\n",
       " Text(231.41472172351888, 101.925, 'gini = 0.0\\nsamples = 1\\nvalue = [1, 0]\\nclass = NotSub'),\n",
       " Text(235.02118491921007, 115.515, 'job_mgmt <= 0.5\\ngini = 0.034\\nsamples = 57\\nvalue = [56, 1]\\nclass = NotSub'),\n",
       " Text(233.81903052064635, 101.925, 'gini = 0.035\\nsamples = 56\\nvalue = [55, 1]\\nclass = NotSub'),\n",
       " Text(236.22333931777382, 101.925, 'gini = 0.0\\nsamples = 1\\nvalue = [1, 0]\\nclass = NotSub'),\n",
       " Text(242.23411131059248, 129.10500000000002, 'priorcontacts <= 7.5\\ngini = 0.093\\nsamples = 102\\nvalue = [97, 5]\\nclass = NotSub'),\n",
       " Text(241.03195691202876, 115.515, 'priorcontacts <= 5.5\\ngini = 0.112\\nsamples = 84\\nvalue = [79, 5]\\nclass = NotSub'),\n",
       " Text(238.6276481149013, 101.925, 'priorcontacts <= 4.5\\ngini = 0.087\\nsamples = 66\\nvalue = [63, 3]\\nclass = NotSub'),\n",
       " Text(237.42549371633754, 88.33500000000001, 'job_mgmt <= 0.5\\ngini = 0.111\\nsamples = 51\\nvalue = [48, 3]\\nclass = NotSub'),\n",
       " Text(236.22333931777382, 74.745, 'priorcontacts <= 3.5\\ngini = 0.117\\nsamples = 48\\nvalue = [45, 3]\\nclass = NotSub'),\n",
       " Text(235.02118491921007, 61.155, 'gini = 0.142\\nsamples = 26\\nvalue = [24, 2]\\nclass = NotSub'),\n",
       " Text(237.42549371633754, 61.155, 'gini = 0.087\\nsamples = 22\\nvalue = [21, 1]\\nclass = NotSub'),\n",
       " Text(238.6276481149013, 74.745, 'gini = 0.0\\nsamples = 3\\nvalue = [3, 0]\\nclass = NotSub'),\n",
       " Text(239.829802513465, 88.33500000000001, 'gini = 0.0\\nsamples = 15\\nvalue = [15, 0]\\nclass = NotSub'),\n",
       " Text(243.43626570915623, 101.925, 'priorcontacts <= 6.5\\ngini = 0.198\\nsamples = 18\\nvalue = [16, 2]\\nclass = NotSub'),\n",
       " Text(242.23411131059248, 88.33500000000001, 'gini = 0.245\\nsamples = 7\\nvalue = [6, 1]\\nclass = NotSub'),\n",
       " Text(244.63842010771995, 88.33500000000001, 'gini = 0.165\\nsamples = 11\\nvalue = [10, 1]\\nclass = NotSub'),\n",
       " Text(243.43626570915623, 115.515, 'gini = 0.0\\nsamples = 18\\nvalue = [18, 0]\\nclass = NotSub'),\n",
       " Text(245.84057450628367, 142.695, 'priorcontacts <= 37.0\\ngini = 0.5\\nsamples = 2\\nvalue = [1, 1]\\nclass = NotSub'),\n",
       " Text(244.63842010771995, 129.10500000000002, 'gini = 0.0\\nsamples = 1\\nvalue = [0, 1]\\nclass = Sub'),\n",
       " Text(247.04272890484742, 129.10500000000002, 'gini = 0.0\\nsamples = 1\\nvalue = [1, 0]\\nclass = NotSub'),\n",
       " Text(288.47948833034116, 183.465, 'priorcontacts <= 13.5\\ngini = 0.219\\nsamples = 663\\nvalue = [580, 83]\\nclass = NotSub'),\n",
       " Text(287.27733393177743, 169.875, 'priorcontacts <= 3.5\\ngini = 0.225\\nsamples = 642\\nvalue = [559, 83]\\nclass = NotSub'),\n",
       " Text(268.6815080789946, 156.285, 'pers_loan <= 0.5\\ngini = 0.195\\nsamples = 447\\nvalue = [398, 49]\\nclass = NotSub'),\n",
       " Text(259.6653500897666, 142.695, 'job_mgmt <= 0.5\\ngini = 0.204\\nsamples = 372\\nvalue = [329, 43]\\nclass = NotSub'),\n",
       " Text(253.65457809694797, 129.10500000000002, 'priorcontacts <= 2.5\\ngini = 0.191\\nsamples = 159\\nvalue = [142, 17]\\nclass = NotSub'),\n",
       " Text(250.6491921005386, 115.515, 'priorcontacts <= 1.5\\ngini = 0.212\\nsamples = 133\\nvalue = [117, 16]\\nclass = NotSub'),\n",
       " Text(248.24488330341114, 101.925, 'married <= 0.5\\ngini = 0.171\\nsamples = 74\\nvalue = [67, 7]\\nclass = NotSub'),\n",
       " Text(247.04272890484742, 88.33500000000001, 'gini = 0.139\\nsamples = 40\\nvalue = [37, 3]\\nclass = NotSub'),\n",
       " Text(249.4470377019749, 88.33500000000001, 'gini = 0.208\\nsamples = 34\\nvalue = [30, 4]\\nclass = NotSub'),\n",
       " Text(253.05350089766608, 101.925, 'married <= 0.5\\ngini = 0.259\\nsamples = 59\\nvalue = [50, 9]\\nclass = NotSub'),\n",
       " Text(251.85134649910236, 88.33500000000001, 'gini = 0.32\\nsamples = 30\\nvalue = [24, 6]\\nclass = NotSub'),\n",
       " Text(254.25565529622983, 88.33500000000001, 'gini = 0.185\\nsamples = 29\\nvalue = [26, 3]\\nclass = NotSub'),\n",
       " Text(256.6599640933573, 115.515, 'married <= 0.5\\ngini = 0.074\\nsamples = 26\\nvalue = [25, 1]\\nclass = NotSub'),\n",
       " Text(255.45780969479355, 101.925, 'gini = 0.18\\nsamples = 10\\nvalue = [9, 1]\\nclass = NotSub'),\n",
       " Text(257.862118491921, 101.925, 'gini = 0.0\\nsamples = 16\\nvalue = [16, 0]\\nclass = NotSub'),\n",
       " Text(265.6761220825853, 129.10500000000002, 'priorcontacts <= 2.5\\ngini = 0.214\\nsamples = 213\\nvalue = [187, 26]\\nclass = NotSub'),\n",
       " Text(262.67073608617596, 115.515, 'married <= 0.5\\ngini = 0.201\\nsamples = 159\\nvalue = [141, 18]\\nclass = NotSub'),\n",
       " Text(260.2664272890485, 101.925, 'priorcontacts <= 1.5\\ngini = 0.161\\nsamples = 68\\nvalue = [62, 6]\\nclass = NotSub'),\n",
       " Text(259.06427289048474, 88.33500000000001, 'gini = 0.111\\nsamples = 34\\nvalue = [32, 2]\\nclass = NotSub'),\n",
       " Text(261.46858168761224, 88.33500000000001, 'gini = 0.208\\nsamples = 34\\nvalue = [30, 4]\\nclass = NotSub'),\n",
       " Text(265.07504488330346, 101.925, 'priorcontacts <= 1.5\\ngini = 0.229\\nsamples = 91\\nvalue = [79, 12]\\nclass = NotSub'),\n",
       " Text(263.8728904847397, 88.33500000000001, 'gini = 0.278\\nsamples = 54\\nvalue = [45, 9]\\nclass = NotSub'),\n",
       " Text(266.2771992818672, 88.33500000000001, 'gini = 0.149\\nsamples = 37\\nvalue = [34, 3]\\nclass = NotSub'),\n",
       " Text(268.6815080789946, 115.515, 'married <= 0.5\\ngini = 0.252\\nsamples = 54\\nvalue = [46, 8]\\nclass = NotSub'),\n",
       " Text(267.4793536804309, 101.925, 'gini = 0.298\\nsamples = 22\\nvalue = [18, 4]\\nclass = NotSub'),\n",
       " Text(269.88366247755835, 101.925, 'gini = 0.219\\nsamples = 32\\nvalue = [28, 4]\\nclass = NotSub'),\n",
       " Text(277.69766606822265, 142.695, 'priorcontacts <= 2.5\\ngini = 0.147\\nsamples = 75\\nvalue = [69, 6]\\nclass = NotSub'),\n",
       " Text(276.4955116696589, 129.10500000000002, 'job_mgmt <= 0.5\\ngini = 0.185\\nsamples = 58\\nvalue = [52, 6]\\nclass = NotSub'),\n",
       " Text(273.49012567324957, 115.515, 'priorcontacts <= 1.5\\ngini = 0.133\\nsamples = 28\\nvalue = [26, 2]\\nclass = NotSub'),\n",
       " Text(272.28797127468584, 101.925, 'married <= 0.5\\ngini = 0.188\\nsamples = 19\\nvalue = [17, 2]\\nclass = NotSub'),\n",
       " Text(271.0858168761221, 88.33500000000001, 'gini = 0.278\\nsamples = 6\\nvalue = [5, 1]\\nclass = NotSub'),\n",
       " Text(273.49012567324957, 88.33500000000001, 'gini = 0.142\\nsamples = 13\\nvalue = [12, 1]\\nclass = NotSub'),\n",
       " Text(274.6922800718133, 101.925, 'gini = 0.0\\nsamples = 9\\nvalue = [9, 0]\\nclass = NotSub'),\n",
       " Text(279.5008976660682, 115.515, 'married <= 0.5\\ngini = 0.231\\nsamples = 30\\nvalue = [26, 4]\\nclass = NotSub'),\n",
       " Text(277.0965888689408, 101.925, 'priorcontacts <= 1.5\\ngini = 0.165\\nsamples = 11\\nvalue = [10, 1]\\nclass = NotSub'),\n",
       " Text(275.89443447037706, 88.33500000000001, 'gini = 0.444\\nsamples = 3\\nvalue = [2, 1]\\nclass = NotSub'),\n",
       " Text(278.2987432675045, 88.33500000000001, 'gini = 0.0\\nsamples = 8\\nvalue = [8, 0]\\nclass = NotSub'),\n",
       " Text(281.9052064631957, 101.925, 'priorcontacts <= 1.5\\ngini = 0.266\\nsamples = 19\\nvalue = [16, 3]\\nclass = NotSub'),\n",
       " Text(280.703052064632, 88.33500000000001, 'gini = 0.165\\nsamples = 11\\nvalue = [10, 1]\\nclass = NotSub'),\n",
       " Text(283.10736086175945, 88.33500000000001, 'gini = 0.375\\nsamples = 8\\nvalue = [6, 2]\\nclass = NotSub'),\n",
       " Text(278.89982046678637, 129.10500000000002, 'gini = 0.0\\nsamples = 17\\nvalue = [17, 0]\\nclass = NotSub'),\n",
       " Text(305.8731597845602, 156.285, 'married <= 0.5\\ngini = 0.288\\nsamples = 195\\nvalue = [161, 34]\\nclass = NotSub'),\n",
       " Text(291.22190305206465, 142.695, 'priorcontacts <= 4.5\\ngini = 0.251\\nsamples = 95\\nvalue = [81, 14]\\nclass = NotSub'),\n",
       " Text(286.71382405745067, 129.10500000000002, 'pers_loan <= 0.5\\ngini = 0.128\\nsamples = 29\\nvalue = [27, 2]\\nclass = NotSub'),\n",
       " Text(285.51166965888694, 115.515, 'job_mgmt <= 0.5\\ngini = 0.137\\nsamples = 27\\nvalue = [25, 2]\\nclass = NotSub'),\n",
       " Text(284.30951526032317, 101.925, 'gini = 0.153\\nsamples = 12\\nvalue = [11, 1]\\nclass = NotSub'),\n",
       " Text(286.71382405745067, 101.925, 'gini = 0.124\\nsamples = 15\\nvalue = [14, 1]\\nclass = NotSub'),\n",
       " Text(287.9159784560144, 115.515, 'gini = 0.0\\nsamples = 2\\nvalue = [2, 0]\\nclass = NotSub'),\n",
       " Text(295.7299820466787, 129.10500000000002, 'job_mgmt <= 0.5\\ngini = 0.298\\nsamples = 66\\nvalue = [54, 12]\\nclass = NotSub'),\n",
       " Text(290.3202872531419, 115.515, 'pers_loan <= 0.5\\ngini = 0.397\\nsamples = 22\\nvalue = [16, 6]\\nclass = NotSub'),\n",
       " Text(289.1181328545781, 101.925, 'priorcontacts <= 5.5\\ngini = 0.457\\nsamples = 17\\nvalue = [11, 6]\\nclass = NotSub'),\n",
       " Text(287.9159784560144, 88.33500000000001, 'gini = 0.5\\nsamples = 6\\nvalue = [3, 3]\\nclass = NotSub'),\n",
       " Text(290.3202872531419, 88.33500000000001, 'priorcontacts <= 6.5\\ngini = 0.397\\nsamples = 11\\nvalue = [8, 3]\\nclass = NotSub'),\n",
       " Text(289.1181328545781, 74.745, 'gini = 0.0\\nsamples = 2\\nvalue = [2, 0]\\nclass = NotSub'),\n",
       " Text(291.5224416517056, 74.745, 'priorcontacts <= 7.5\\ngini = 0.444\\nsamples = 9\\nvalue = [6, 3]\\nclass = NotSub'),\n",
       " Text(290.3202872531419, 61.155, 'gini = 0.5\\nsamples = 4\\nvalue = [2, 2]\\nclass = NotSub'),\n",
       " Text(292.7245960502693, 61.155, 'priorcontacts <= 11.0\\ngini = 0.32\\nsamples = 5\\nvalue = [4, 1]\\nclass = NotSub'),\n",
       " Text(291.5224416517056, 47.565, 'gini = 0.0\\nsamples = 3\\nvalue = [3, 0]\\nclass = NotSub'),\n",
       " Text(293.92675044883305, 47.565, 'gini = 0.5\\nsamples = 2\\nvalue = [1, 1]\\nclass = NotSub'),\n",
       " Text(291.5224416517056, 101.925, 'gini = 0.0\\nsamples = 5\\nvalue = [5, 0]\\nclass = NotSub'),\n",
       " Text(301.1396768402155, 115.515, 'priorcontacts <= 8.5\\ngini = 0.236\\nsamples = 44\\nvalue = [38, 6]\\nclass = NotSub'),\n",
       " Text(299.9375224416517, 101.925, 'pers_loan <= 0.5\\ngini = 0.266\\nsamples = 38\\nvalue = [32, 6]\\nclass = NotSub'),\n",
       " Text(298.735368043088, 88.33500000000001, 'priorcontacts <= 6.5\\ngini = 0.239\\nsamples = 36\\nvalue = [31, 5]\\nclass = NotSub'),\n",
       " Text(296.33105924596055, 74.745, 'priorcontacts <= 5.5\\ngini = 0.287\\nsamples = 23\\nvalue = [19, 4]\\nclass = NotSub'),\n",
       " Text(295.12890484739677, 61.155, 'gini = 0.26\\nsamples = 13\\nvalue = [11, 2]\\nclass = NotSub'),\n",
       " Text(297.53321364452427, 61.155, 'gini = 0.32\\nsamples = 10\\nvalue = [8, 2]\\nclass = NotSub'),\n",
       " Text(301.1396768402155, 74.745, 'priorcontacts <= 7.5\\ngini = 0.142\\nsamples = 13\\nvalue = [12, 1]\\nclass = NotSub'),\n",
       " Text(299.9375224416517, 61.155, 'gini = 0.0\\nsamples = 5\\nvalue = [5, 0]\\nclass = NotSub'),\n",
       " Text(302.3418312387792, 61.155, 'gini = 0.219\\nsamples = 8\\nvalue = [7, 1]\\nclass = NotSub'),\n",
       " Text(301.1396768402155, 88.33500000000001, 'gini = 0.5\\nsamples = 2\\nvalue = [1, 1]\\nclass = NotSub'),\n",
       " Text(302.3418312387792, 101.925, 'gini = 0.0\\nsamples = 6\\nvalue = [6, 0]\\nclass = NotSub'),\n",
       " Text(320.52441651705567, 142.695, 'pers_loan <= 0.5\\ngini = 0.32\\nsamples = 100\\nvalue = [80, 20]\\nclass = NotSub'),\n",
       " Text(313.46175942549377, 129.10500000000002, 'priorcontacts <= 8.5\\ngini = 0.295\\nsamples = 89\\nvalue = [73, 16]\\nclass = NotSub'),\n",
       " Text(307.751526032316, 115.515, 'priorcontacts <= 4.5\\ngini = 0.263\\nsamples = 77\\nvalue = [65, 12]\\nclass = NotSub'),\n",
       " Text(304.74614003590665, 101.925, 'job_mgmt <= 0.5\\ngini = 0.355\\nsamples = 26\\nvalue = [20, 6]\\nclass = NotSub'),\n",
       " Text(303.5439856373429, 88.33500000000001, 'gini = 0.444\\nsamples = 12\\nvalue = [8, 4]\\nclass = NotSub'),\n",
       " Text(305.9482944344704, 88.33500000000001, 'gini = 0.245\\nsamples = 14\\nvalue = [12, 2]\\nclass = NotSub'),\n",
       " Text(310.75691202872537, 101.925, 'priorcontacts <= 5.5\\ngini = 0.208\\nsamples = 51\\nvalue = [45, 6]\\nclass = NotSub'),\n",
       " Text(308.35260323159787, 88.33500000000001, 'job_mgmt <= 0.5\\ngini = 0.08\\nsamples = 24\\nvalue = [23, 1]\\nclass = NotSub'),\n",
       " Text(307.15044883303415, 74.745, 'gini = 0.0\\nsamples = 4\\nvalue = [4, 0]\\nclass = NotSub'),\n",
       " Text(309.5547576301616, 74.745, 'gini = 0.095\\nsamples = 20\\nvalue = [19, 1]\\nclass = NotSub'),\n",
       " Text(313.1612208258528, 88.33500000000001, 'priorcontacts <= 7.5\\ngini = 0.302\\nsamples = 27\\nvalue = [22, 5]\\nclass = NotSub'),\n",
       " Text(311.9590664272891, 74.745, 'priorcontacts <= 6.5\\ngini = 0.363\\nsamples = 21\\nvalue = [16, 5]\\nclass = NotSub'),\n",
       " Text(310.75691202872537, 61.155, 'gini = 0.397\\nsamples = 11\\nvalue = [8, 3]\\nclass = NotSub'),\n",
       " Text(313.1612208258528, 61.155, 'job_mgmt <= 0.5\\ngini = 0.32\\nsamples = 10\\nvalue = [8, 2]\\nclass = NotSub'),\n",
       " Text(311.9590664272891, 47.565, 'gini = 0.32\\nsamples = 5\\nvalue = [4, 1]\\nclass = NotSub'),\n",
       " Text(314.36337522441653, 47.565, 'gini = 0.32\\nsamples = 5\\nvalue = [4, 1]\\nclass = NotSub'),\n",
       " Text(314.36337522441653, 74.745, 'gini = 0.0\\nsamples = 6\\nvalue = [6, 0]\\nclass = NotSub'),\n",
       " Text(319.17199281867147, 115.515, 'priorcontacts <= 9.5\\ngini = 0.444\\nsamples = 12\\nvalue = [8, 4]\\nclass = NotSub'),\n",
       " Text(316.767684021544, 101.925, 'job_mgmt <= 0.5\\ngini = 0.444\\nsamples = 3\\nvalue = [1, 2]\\nclass = Sub'),\n",
       " Text(315.5655296229803, 88.33500000000001, 'gini = 0.0\\nsamples = 1\\nvalue = [0, 1]\\nclass = Sub'),\n",
       " Text(317.96983842010775, 88.33500000000001, 'gini = 0.5\\nsamples = 2\\nvalue = [1, 1]\\nclass = NotSub'),\n",
       " Text(321.57630161579897, 101.925, 'job_mgmt <= 0.5\\ngini = 0.346\\nsamples = 9\\nvalue = [7, 2]\\nclass = NotSub'),\n",
       " Text(320.37414721723525, 88.33500000000001, 'gini = 0.0\\nsamples = 1\\nvalue = [1, 0]\\nclass = NotSub'),\n",
       " Text(322.7784560143627, 88.33500000000001, 'priorcontacts <= 12.5\\ngini = 0.375\\nsamples = 8\\nvalue = [6, 2]\\nclass = NotSub'),\n",
       " Text(321.57630161579897, 74.745, 'priorcontacts <= 11.0\\ngini = 0.408\\nsamples = 7\\nvalue = [5, 2]\\nclass = NotSub'),\n",
       " Text(320.37414721723525, 61.155, 'gini = 0.444\\nsamples = 3\\nvalue = [2, 1]\\nclass = NotSub'),\n",
       " Text(322.7784560143627, 61.155, 'gini = 0.375\\nsamples = 4\\nvalue = [3, 1]\\nclass = NotSub'),\n",
       " Text(323.9806104129264, 74.745, 'gini = 0.0\\nsamples = 1\\nvalue = [1, 0]\\nclass = NotSub'),\n",
       " Text(327.58707360861763, 129.10500000000002, 'job_mgmt <= 0.5\\ngini = 0.463\\nsamples = 11\\nvalue = [7, 4]\\nclass = NotSub'),\n",
       " Text(326.3849192100539, 115.515, 'gini = 0.0\\nsamples = 3\\nvalue = [3, 0]\\nclass = NotSub'),\n",
       " Text(328.78922800718135, 115.515, 'priorcontacts <= 5.5\\ngini = 0.5\\nsamples = 8\\nvalue = [4, 4]\\nclass = NotSub'),\n",
       " Text(326.3849192100539, 101.925, 'priorcontacts <= 4.5\\ngini = 0.375\\nsamples = 4\\nvalue = [1, 3]\\nclass = Sub'),\n",
       " Text(325.18276481149013, 88.33500000000001, 'gini = 0.444\\nsamples = 3\\nvalue = [1, 2]\\nclass = Sub'),\n",
       " Text(327.58707360861763, 88.33500000000001, 'gini = 0.0\\nsamples = 1\\nvalue = [0, 1]\\nclass = Sub'),\n",
       " Text(331.19353680430885, 101.925, 'priorcontacts <= 7.5\\ngini = 0.375\\nsamples = 4\\nvalue = [3, 1]\\nclass = NotSub'),\n",
       " Text(329.99138240574507, 88.33500000000001, 'gini = 0.0\\nsamples = 2\\nvalue = [2, 0]\\nclass = NotSub'),\n",
       " Text(332.39569120287257, 88.33500000000001, 'priorcontacts <= 9.5\\ngini = 0.5\\nsamples = 2\\nvalue = [1, 1]\\nclass = NotSub'),\n",
       " Text(331.19353680430885, 74.745, 'gini = 0.0\\nsamples = 1\\nvalue = [0, 1]\\nclass = Sub'),\n",
       " Text(333.5978456014363, 74.745, 'gini = 0.0\\nsamples = 1\\nvalue = [1, 0]\\nclass = NotSub'),\n",
       " Text(289.6816427289049, 169.875, 'gini = 0.0\\nsamples = 21\\nvalue = [21, 0]\\nclass = NotSub')]"
      ]
     },
     "execution_count": 68,
     "metadata": {},
     "output_type": "execute_result"
    },
    {
     "data": {
      "image/png": "[encoded data removed]",
      "text/plain": [
       "<Figure size 432x288 with 1 Axes>"
      ]
     },
     "metadata": {
      "needs_background": "light"
     },
     "output_type": "display_data"
    }
   ],
   "source": [
    "tree.plot_tree(dtclf2,\n",
    "              feature_names=BPromo_feature_names,\n",
    "              class_names=BPromo_target_names,\n",
    "              filled = True)"
   ]
  },
  {
   "cell_type": "code",
   "execution_count": 70,
   "metadata": {},
   "outputs": [],
   "source": [
    "DTX_train, DTX_test, DTY_train, DTY_test = train_test_split(DTDataX, DTDataY, test_size=0.3, random_state=42)"
   ]
  },
  {
   "cell_type": "code",
   "execution_count": 73,
   "metadata": {},
   "outputs": [],
   "source": [
    "dtclf3 = tree.DecisionTreeClassifier()\n",
    "dtclf3 = dtclf3.fit(DTX_train, DTY_train)"
   ]
  },
  {
   "cell_type": "code",
   "execution_count": 74,
   "metadata": {},
   "outputs": [],
   "source": [
    "DTY_pred = dtclf3.predict(DTX_test)"
   ]
  },
  {
   "cell_type": "code",
   "execution_count": 75,
   "metadata": {},
   "outputs": [
    {
     "name": "stdout",
     "output_type": "stream",
     "text": [
      "[[1191    8]\n",
      " [ 157    1]]\n"
     ]
    }
   ],
   "source": [
    "from sklearn.metrics import confusion_matrix\n",
    "confusion_matrix = confusion_matrix(DTY_test, DTY_pred)\n",
    "print(confusion_matrix)"
   ]
  },
  {
   "cell_type": "code",
   "execution_count": 77,
   "metadata": {},
   "outputs": [
    {
     "name": "stdout",
     "output_type": "stream",
     "text": [
      "0.8784082535003684\n"
     ]
    }
   ],
   "source": [
    "from sklearn.metrics import accuracy_score\n",
    "print(accuracy_score(DTY_test, DTY_pred))"
   ]
  },
  {
   "cell_type": "code",
   "execution_count": null,
   "metadata": {},
   "outputs": [],
   "source": []
  }
 ],
 "metadata": {
  "kernelspec": {
   "display_name": "Python 3 (ipykernel)",
   "language": "python",
   "name": "python3"
  },
  "language_info": {
   "codemirror_mode": {
    "name": "ipython",
    "version": 3
   },
   "file_extension": ".py",
   "mimetype": "text/x-python",
   "name": "python",
   "nbconvert_exporter": "python",
   "pygments_lexer": "ipython3",
   "version": "3.9.12"
  }
 },
 "nbformat": 4,
 "nbformat_minor": 2
}
